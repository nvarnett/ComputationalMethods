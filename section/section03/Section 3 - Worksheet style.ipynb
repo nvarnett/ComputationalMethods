{
 "metadata": {
  "name": ""
 },
 "nbformat": 3,
 "nbformat_minor": 0,
 "worksheets": [
  {
   "cells": [
    {
     "cell_type": "markdown",
     "metadata": {},
     "source": [
      "# Welcome to week 3!\n",
      "\n",
      "#### Plan\n",
      "\n",
      "- Dictionaries\n",
      "- Classes"
     ]
    },
    {
     "cell_type": "markdown",
     "metadata": {},
     "source": [
      "## Fun with dictionaries\n",
      "\n",
      "What does this code do?"
     ]
    },
    {
     "cell_type": "code",
     "collapsed": false,
     "input": [
      "def getMobyDickWords():\n",
      "    mobydick = \"\"\"Call me Ishmael. Some years ago -- never mind how long precisely--having\n",
      "little or no money in my purse, and nothing particular to interest me on\n",
      "shore, I thought I would sail about a little and see the watery part of\n",
      "the world. It is a way I have of driving off the spleen and regulating\n",
      "the circulation. Whenever I find myself growing grim about the mouth;\n",
      "whenever it is a damp, drizzly November in my soul; whenever I find\n",
      "myself involuntarily pausing before coffin warehouses, and bringing up\n",
      "the rear of every funeral I meet; and especially whenever my hypos get\n",
      "such an upper hand of me, that it requires a strong moral principle to\n",
      "prevent me from deliberately stepping into the street, and methodically\n",
      "knocking people's hats off -- then, I account it high time to get to sea\n",
      "as soon as I can. This is my substitute for pistol and ball. With a\n",
      "philosophical flourish Cato throws himself upon his sword; I quietly\n",
      "take to the ship. There is nothing surprising in this. If they but knew\n",
      "it, almost all men in their degree, some time or other, cherish very\n",
      "nearly the same feelings towards the ocean with me.\n",
      "\n",
      "There now is your insular city of the Manhattoes, belted round by\n",
      "wharves as Indian isles by coral reefs -- commerce surrounds it with\n",
      "her surf. Right and left, the streets take you waterward. Its extreme\n",
      "downtown is the battery, where that noble mole is washed by waves, and\n",
      "cooled by breezes, which a few hours previous were out of sight of land.\n",
      "Look at the crowds of water-gazers there.\"\"\"\n",
      "    normedText = mobydick.replace(\"\\n\", \" \")\n",
      "    punctuation = \";:,.?!-\"\n",
      "    for punct in punctuation:\n",
      "        normedText = normedText.replace(punct, \"\")\n",
      "    return filter(lambda x: x != \"\", normedText.split(\" \"))\n",
      "\n",
      "#def notEmpty(string):\n",
      "#    return string != \"\""
     ],
     "language": "python",
     "metadata": {},
     "outputs": [],
     "prompt_number": 3
    },
    {
     "cell_type": "code",
     "collapsed": false,
     "input": [
      "words = getMobyDickWords()\n",
      "print words"
     ],
     "language": "python",
     "metadata": {},
     "outputs": [],
     "prompt_number": 4
    },
    {
     "cell_type": "markdown",
     "metadata": {},
     "source": [
      "Let's make a dictionary of word frequencies, like from lecture last Wednesday\n"
     ]
    },
    {
     "cell_type": "code",
     "collapsed": false,
     "input": [
      "frequencies = {}\n",
      "# Your code here. How do we loop through the words in the 'words' list?\n",
      "\n",
      "print frequencies"
     ],
     "language": "python",
     "metadata": {},
     "outputs": [
      {
       "output_type": "stream",
       "stream": "stdout",
       "text": [
        "{}\n"
       ]
      }
     ],
     "prompt_number": 7
    },
    {
     "cell_type": "markdown",
     "metadata": {},
     "source": [
      "Now let's get the frequency of the first letters. First, how do we drill down to get at words and their frequencies in the dict we just made?"
     ]
    },
    {
     "cell_type": "code",
     "collapsed": false,
     "input": [],
     "language": "python",
     "metadata": {},
     "outputs": [],
     "prompt_number": 5
    },
    {
     "cell_type": "code",
     "collapsed": false,
     "input": [
      "frequenciesLetters = {}\n",
      "\n",
      "# Your code here. Get the words from our other dictionary and make a new one for the first letters from it.\n",
      "\n",
      "print frequenciesLetters"
     ],
     "language": "python",
     "metadata": {},
     "outputs": [
      {
       "output_type": "stream",
       "stream": "stdout",
       "text": [
        "{}\n"
       ]
      }
     ],
     "prompt_number": 6
    },
    {
     "cell_type": "markdown",
     "metadata": {},
     "source": [
      "We can sort frequenciesLetters by the keys (i.e., the letters) pretty easily."
     ]
    },
    {
     "cell_type": "code",
     "collapsed": false,
     "input": [],
     "language": "python",
     "metadata": {},
     "outputs": [],
     "prompt_number": 7
    },
    {
     "cell_type": "code",
     "collapsed": false,
     "input": [],
     "language": "python",
     "metadata": {},
     "outputs": [],
     "prompt_number": 7
    },
    {
     "cell_type": "markdown",
     "metadata": {},
     "source": [
      "But how can we sort by frequency?"
     ]
    },
    {
     "cell_type": "code",
     "collapsed": false,
     "input": [],
     "language": "python",
     "metadata": {},
     "outputs": [],
     "prompt_number": 7
    },
    {
     "cell_type": "code",
     "collapsed": false,
     "input": [],
     "language": "python",
     "metadata": {},
     "outputs": [],
     "prompt_number": 7
    },
    {
     "cell_type": "markdown",
     "metadata": {},
     "source": [
      "## Dictionaries of dictionaries (yo dawg)\n",
      "\n",
      "The dictionary below holds verbs. Each verb is the key for a dictionary of its thematic roles. Each thematic role is a dictionary of the sentence structures that the role can appear in with the verb in question."
     ]
    },
    {
     "cell_type": "code",
     "collapsed": false,
     "input": [
      "thetaMap = {}\n",
      "thetaMap[\"destroy\"] = {}\n",
      "thetaMap[\"destroy\"][\"Agent\"] = [(\"S\", \"NP V NP\"), (\"S\", \"NP V NP PP.INSTRUMENT\")]\n",
      "thetaMap[\"destroy\"][\"Patient\"] = [(\"S\", \"NP V NP\"), (\"S\", \"NP V NP PP.INSTRUMENT\"), (\"S\", \"PP.INSTRUMENT V NP\")]"
     ],
     "language": "python",
     "metadata": {},
     "outputs": [],
     "prompt_number": 18
    },
    {
     "cell_type": "code",
     "collapsed": false,
     "input": [
      "thetaMap"
     ],
     "language": "python",
     "metadata": {},
     "outputs": [
      {
       "metadata": {},
       "output_type": "pyout",
       "prompt_number": 19,
       "text": [
        "{'destroy': {'Agent': [('S', 'NP V NP'), ('S', 'NP V NP PP.INSTRUMENT')],\n",
        "  'Patient': [('S', 'NP V NP'),\n",
        "   ('S', 'NP V NP PP.INSTRUMENT'),\n",
        "   ('S', 'PP.INSTRUMENT V NP')]}}"
       ]
      }
     ],
     "prompt_number": 19
    },
    {
     "cell_type": "markdown",
     "metadata": {},
     "source": [
      "Next, let's use this for something. Let's see what syntactic structures involving the ver 'destroy' have both an Agent and a Patient."
     ]
    },
    {
     "cell_type": "code",
     "collapsed": false,
     "input": [
      "def struxOverlap(verb, role1, role2):\n",
      "    \"\"\"\n",
      "    Lists possible syntactic structures containing a given verb and two given thematic arguments\n",
      "    \n",
      "    Arguments:\n",
      "        verb (string), a verb key in thetaMap\n",
      "        role1 (string), a theta role key in thetaMap[verb]\n",
      "        role2 (string), another theta role key in thetaMap[verb]\n",
      "    \n",
      "    Returns:\n",
      "        overlap (list), the structures shared by thetaMap[verb][role1] and thetaMap[verb][role2]\n",
      "        \n",
      "    Raises:\n",
      "        nothing\n",
      "    \"\"\"\n",
      "    return []\n",
      "\n",
      "if __name__ == \"__main__\":\n",
      "    print struxOverlap(\"destroy\", \"Agent\", \"Patient\")"
     ],
     "language": "python",
     "metadata": {},
     "outputs": [],
     "prompt_number": 14
    },
    {
     "cell_type": "markdown",
     "metadata": {},
     "source": [
      "## Building classes\n",
      "\n",
      "Recalling the basics from yesterday: Let's make a simple class and give it an attribute."
     ]
    },
    {
     "cell_type": "code",
     "collapsed": false,
     "input": [],
     "language": "python",
     "metadata": {},
     "outputs": [],
     "prompt_number": 7
    },
    {
     "cell_type": "markdown",
     "metadata": {},
     "source": [
      "Let's give it a method or two."
     ]
    },
    {
     "cell_type": "code",
     "collapsed": false,
     "input": [],
     "language": "python",
     "metadata": {},
     "outputs": [],
     "prompt_number": 7
    },
    {
     "cell_type": "markdown",
     "metadata": {},
     "source": [
      "Ok, let's make better use of this. I want to make a Coin class with a weight (prob of heads) and a method to flip it that returns 'H' for 'T'"
     ]
    },
    {
     "cell_type": "code",
     "collapsed": false,
     "input": [],
     "language": "python",
     "metadata": {},
     "outputs": [],
     "prompt_number": 7
    },
    {
     "cell_type": "code",
     "collapsed": false,
     "input": [],
     "language": "python",
     "metadata": {},
     "outputs": [],
     "prompt_number": 7
    },
    {
     "cell_type": "code",
     "collapsed": false,
     "input": [],
     "language": "python",
     "metadata": {},
     "outputs": [],
     "prompt_number": 7
    },
    {
     "cell_type": "markdown",
     "metadata": {},
     "source": [
      "Anyway, that's not linguistics. Let's made a more useful class!"
     ]
    },
    {
     "cell_type": "markdown",
     "metadata": {},
     "source": [
      "## Noun class\n",
      "\n",
      "Let's build a class called **Noun**. It should do the following:\n",
      "\n",
      "- Nouns have singular and plural forms, a mass/count distinction, (and something else of your choice)\n",
      "- All of these should work:\n",
      "    - `apple = Noun(\"apple\")`  \n",
      "      `goose = Noun(\"goose\",\"geese\")`  \n",
      "      `gohan = Noun(\"rice\",mass=True)`\n",
      "    - I.e., If we don't specify a plural, it should be set automatically, and nouns are count unless specified\n",
      "- Printing an instance of Noun should tell you everything you know about it, in a readable way.\n",
      "- The method `isCount()` should tell you whether the noun is mass or count.\n",
      "- The method `thereAre(int)` should pluralizes correctly, given how many of the noun there are:\n",
      "    - `apple.thereAre(3)` returns the string `\"3 apples\"`\n",
      "    - `apple.thereAre(1)` returns the string `\"1 apple\"`\n",
      "    - `gohan.thereAre(4)` returns the string `\"'rice' is a mass noun\"`\n",
      "- There should be a method that interacts with the extra atrribute you made, or changes something about the noun. Maybe a quick way to regularize the plural?"
     ]
    },
    {
     "cell_type": "code",
     "collapsed": false,
     "input": [
      "class Noun(object):\n",
      "    \n",
      "    # Your code here. You'll need to add __init__, __str__, isCount, and thereAre, at least.\n",
      "    \n",
      "def testCases():\n",
      "    '''Makes entries for \"apple\", \"goose\", and \"rice\"'''\n",
      "    apple = Noun(\"apple\")\n",
      "    print apple\n",
      "    print apple.isCount()\n",
      "    print apple.thereAre(4)\n",
      "    print apple.thereAre(1)\n",
      "    print apple.thereAre(0)\n",
      "\n",
      "    print\n",
      "\n",
      "    goose = Noun(\"goose\",\"geese\")\n",
      "    print goose\n",
      "    print goose.isCount()\n",
      "    print goose.thereAre(4)\n",
      "    print goose.thereAre(1)\n",
      "    print goose.thereAre(0)\n",
      "\n",
      "    print\n",
      "\n",
      "    gohan = Noun(\"rice\",mass=True)\n",
      "    print gohan\n",
      "    print gohan.isCount()\n",
      "    print gohan.thereAre(4)\n",
      "    print gohan.thereAre(1)\n",
      "    print gohan.thereAre(0)\n",
      "    \n",
      "if __name__ == \"__main__\":\n",
      "    testCases()"
     ],
     "language": "python",
     "metadata": {},
     "outputs": [],
     "prompt_number": 13
    },
    {
     "cell_type": "code",
     "collapsed": false,
     "input": [],
     "language": "python",
     "metadata": {},
     "outputs": []
    }
   ],
   "metadata": {}
  }
 ]
}