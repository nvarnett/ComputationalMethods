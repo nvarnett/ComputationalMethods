{
 "metadata": {
  "name": ""
 },
 "nbformat": 3,
 "nbformat_minor": 0,
 "worksheets": [
  {
   "cells": [
    {
     "cell_type": "markdown",
     "metadata": {},
     "source": [
      "# Welcome to week 3!\n",
      "\n",
      "#### Plan\n",
      "\n",
      "- Dictionaries\n",
      "- Classes"
     ]
    },
    {
     "cell_type": "markdown",
     "metadata": {},
     "source": [
      "## Fun with dictionaries\n",
      "\n",
      "What does this code do?"
     ]
    },
    {
     "cell_type": "code",
     "collapsed": false,
     "input": [
      "def getMobyDickWords():\n",
      "    mobydick = \"\"\"Call me Ishmael. Some years ago -- never mind how long precisely--having\n",
      "little or no money in my purse, and nothing particular to interest me on\n",
      "shore, I thought I would sail about a little and see the watery part of\n",
      "the world. It is a way I have of driving off the spleen and regulating\n",
      "the circulation. Whenever I find myself growing grim about the mouth;\n",
      "whenever it is a damp, drizzly November in my soul; whenever I find\n",
      "myself involuntarily pausing before coffin warehouses, and bringing up\n",
      "the rear of every funeral I meet; and especially whenever my hypos get\n",
      "such an upper hand of me, that it requires a strong moral principle to\n",
      "prevent me from deliberately stepping into the street, and methodically\n",
      "knocking people's hats off -- then, I account it high time to get to sea\n",
      "as soon as I can. This is my substitute for pistol and ball. With a\n",
      "philosophical flourish Cato throws himself upon his sword; I quietly\n",
      "take to the ship. There is nothing surprising in this. If they but knew\n",
      "it, almost all men in their degree, some time or other, cherish very\n",
      "nearly the same feelings towards the ocean with me.\n",
      "\n",
      "There now is your insular city of the Manhattoes, belted round by\n",
      "wharves as Indian isles by coral reefs -- commerce surrounds it with\n",
      "her surf. Right and left, the streets take you waterward. Its extreme\n",
      "downtown is the battery, where that noble mole is washed by waves, and\n",
      "cooled by breezes, which a few hours previous were out of sight of land.\n",
      "Look at the crowds of water-gazers there.\"\"\"\n",
      "    normedText = mobydick.replace(\"\\n\", \" \")\n",
      "    punctuation = \";:,.?!-\"\n",
      "    for punct in punctuation:\n",
      "        normedText = normedText.replace(punct, \"\")\n",
      "    return filter(lambda x: x != \"\", normedText.split(\" \"))\n",
      "\n",
      "#def notEmpty(string):\n",
      "#    return string != \"\""
     ],
     "language": "python",
     "metadata": {},
     "outputs": [],
     "prompt_number": 9
    },
    {
     "cell_type": "code",
     "collapsed": false,
     "input": [
      "words = getMobyDickWords()\n",
      "print words"
     ],
     "language": "python",
     "metadata": {},
     "outputs": [
      {
       "output_type": "stream",
       "stream": "stdout",
       "text": [
        "['Call', 'me', 'Ishmael', 'Some', 'years', 'ago', 'never', 'mind', 'how', 'long', 'preciselyhaving', 'little', 'or', 'no', 'money', 'in', 'my', 'purse', 'and', 'nothing', 'particular', 'to', 'interest', 'me', 'on', 'shore', 'I', 'thought', 'I', 'would', 'sail', 'about', 'a', 'little', 'and', 'see', 'the', 'watery', 'part', 'of', 'the', 'world', 'It', 'is', 'a', 'way', 'I', 'have', 'of', 'driving', 'off', 'the', 'spleen', 'and', 'regulating', 'the', 'circulation', 'Whenever', 'I', 'find', 'myself', 'growing', 'grim', 'about', 'the', 'mouth', 'whenever', 'it', 'is', 'a', 'damp', 'drizzly', 'November', 'in', 'my', 'soul', 'whenever', 'I', 'find', 'myself', 'involuntarily', 'pausing', 'before', 'coffin', 'warehouses', 'and', 'bringing', 'up', 'the', 'rear', 'of', 'every', 'funeral', 'I', 'meet', 'and', 'especially', 'whenever', 'my', 'hypos', 'get', 'such', 'an', 'upper', 'hand', 'of', 'me', 'that', 'it', 'requires', 'a', 'strong', 'moral', 'principle', 'to', 'prevent', 'me', 'from', 'deliberately', 'stepping', 'into', 'the', 'street', 'and', 'methodically', 'knocking', \"people's\", 'hats', 'off', 'then', 'I', 'account', 'it', 'high', 'time', 'to', 'get', 'to', 'sea', 'as', 'soon', 'as', 'I', 'can', 'This', 'is', 'my', 'substitute', 'for', 'pistol', 'and', 'ball', 'With', 'a', 'philosophical', 'flourish', 'Cato', 'throws', 'himself', 'upon', 'his', 'sword', 'I', 'quietly', 'take', 'to', 'the', 'ship', 'There', 'is', 'nothing', 'surprising', 'in', 'this', 'If', 'they', 'but', 'knew', 'it', 'almost', 'all', 'men', 'in', 'their', 'degree', 'some', 'time', 'or', 'other', 'cherish', 'very', 'nearly', 'the', 'same', 'feelings', 'towards', 'the', 'ocean', 'with', 'me', 'There', 'now', 'is', 'your', 'insular', 'city', 'of', 'the', 'Manhattoes', 'belted', 'round', 'by', 'wharves', 'as', 'Indian', 'isles', 'by', 'coral', 'reefs', 'commerce', 'surrounds', 'it', 'with', 'her', 'surf', 'Right', 'and', 'left', 'the', 'streets', 'take', 'you', 'waterward', 'Its', 'extreme', 'downtown', 'is', 'the', 'battery', 'where', 'that', 'noble', 'mole', 'is', 'washed', 'by', 'waves', 'and', 'cooled', 'by', 'breezes', 'which', 'a', 'few', 'hours', 'previous', 'were', 'out', 'of', 'sight', 'of', 'land', 'Look', 'at', 'the', 'crowds', 'of', 'watergazers', 'there']\n"
       ]
      }
     ],
     "prompt_number": 10
    },
    {
     "cell_type": "markdown",
     "metadata": {},
     "source": [
      "Let's make a dictionary of word frequencies, like from lecture last Wednesday\n"
     ]
    },
    {
     "cell_type": "code",
     "collapsed": false,
     "input": [
      "frequencies = {}\n",
      "# Your code here. How do we loop through the words in the 'words' list?\n",
      "for word in words:\n",
      "    if word in frequencies:\n",
      "        frequencies[word] += 1\n",
      "    else:\n",
      "        frequencies[word] = 1\n",
      "\n",
      "print frequencies"
     ],
     "language": "python",
     "metadata": {},
     "outputs": [
      {
       "output_type": "stream",
       "stream": "stdout",
       "text": [
        "{'reefs': 1, 'all': 1, 'money': 1, 'hats': 1, 'soon': 1, 'years': 1, 'stepping': 1, 'find': 2, 'before': 1, 'surf': 1, 'preciselyhaving': 1, 'methodically': 1, 'to': 5, 'deliberately': 1, 'crowds': 1, 'belted': 1, 'then': 1, 'his': 1, 'which': 1, 'get': 2, 'very': 1, 'account': 1, 'every': 1, 'nearly': 1, 'they': 1, 'world': 1, 'now': 1, 'bringing': 1, 'grim': 1, 'rear': 1, 'Right': 1, 'waterward': 1, 'upper': 1, 'previous': 1, 'where': 1, 'round': 1, 'towards': 1, 'drizzly': 1, 'streets': 1, 'some': 1, 'soul': 1, 'see': 1, 'street': 1, 'hypos': 1, 'sea': 1, 'substitute': 1, 'out': 1, 'driving': 1, 'sail': 1, 'washed': 1, 'isles': 1, 'pistol': 1, 'insular': 1, 'never': 1, 'Look': 1, 'degree': 1, 'This': 1, 'funeral': 1, 'involuntarily': 1, 'hours': 1, 'watergazers': 1, \"people's\": 1, 'strong': 1, 'by': 4, 'extreme': 1, 'on': 1, 'about': 2, 'her': 1, 'of': 8, 'coral': 1, 'cooled': 1, 'cherish': 1, 'damp': 1, 'quietly': 1, 'prevent': 1, 'battery': 1, 'into': 1, 'There': 2, 'knocking': 1, 'feelings': 1, 'philosophical': 1, 'Indian': 1, 'moral': 1, 'your': 1, 'city': 1, 'little': 2, 'from': 1, 'would': 1, 'few': 1, 'warehouses': 1, 'there': 1, 'long': 1, 'their': 1, 'interest': 1, 'November': 1, 'a': 6, 'throws': 1, 'way': 1, 'that': 2, 'Whenever': 1, 'purse': 1, 'but': 1, 'downtown': 1, 'part': 1, 'particular': 1, 'Cato': 1, 'with': 2, 'me': 5, 'commerce': 1, 'myself': 2, 'surrounds': 1, 'circulation': 1, 'this': 1, 'breezes': 1, 'up': 1, 'can': 1, 'were': 1, 'growing': 1, 'meet': 1, 'my': 4, 'coffin': 1, 'and': 9, 'sight': 1, 'wharves': 1, 'almost': 1, 'is': 7, 'mind': 1, 'it': 5, 'an': 1, 'high': 1, 'as': 3, 'himself': 1, 'Call': 1, 'at': 1, 'have': 1, 'in': 4, 'ship': 1, 'ocean': 1, 'mole': 1, 'Manhattoes': 1, 'no': 1, 'same': 1, 'for': 1, 'how': 1, 'other': 1, 'take': 2, 'sword': 1, 'you': 1, 'With': 1, 'Ishmael': 1, 'watery': 1, 'noble': 1, 'ball': 1, 'I': 9, 'knew': 1, 'upon': 1, 'hand': 1, 'pausing': 1, 'mouth': 1, 'men': 1, 'waves': 1, 'nothing': 2, 'such': 1, 'flourish': 1, 'ago': 1, 'land': 1, 'off': 2, 'especially': 1, 'surprising': 1, 'spleen': 1, 'whenever': 3, 'Some': 1, 'It': 1, 'or': 2, 'thought': 1, 'shore': 1, 'regulating': 1, 'principle': 1, 'time': 2, 'the': 14, 'left': 1, 'requires': 1, 'Its': 1, 'If': 1}\n"
       ]
      }
     ],
     "prompt_number": 12
    },
    {
     "cell_type": "markdown",
     "metadata": {},
     "source": [
      "Now let's get the frequency of the first letters. First, how do we drill down to get at words and their frequencies in the dict we just made?"
     ]
    },
    {
     "cell_type": "code",
     "collapsed": false,
     "input": [
      "print frequencies[\"about\"]\n",
      "print \"about\"[0]"
     ],
     "language": "python",
     "metadata": {},
     "outputs": [
      {
       "output_type": "stream",
       "stream": "stdout",
       "text": [
        "2\n",
        "a\n"
       ]
      }
     ],
     "prompt_number": 13
    },
    {
     "cell_type": "code",
     "collapsed": false,
     "input": [
      "frequenciesLetters = {}\n",
      "\n",
      "# Your code here. Get the words from our other dictionary and make a new one for the first letters from it.\n",
      "for word in frequencies:\n",
      "    val = frequencies[word]    \n",
      "    let = word[0]\n",
      "    if let in frequenciesLetters:\n",
      "        frequenciesLetters[let] += val\n",
      "    else:\n",
      "        frequenciesLetters[let] = val\n",
      "\n",
      "print frequenciesLetters"
     ],
     "language": "python",
     "metadata": {},
     "outputs": []
    },
    {
     "cell_type": "markdown",
     "metadata": {},
     "source": [
      "We can sort frequenciesLetters by the keys (i.e., the letters) pretty easily."
     ]
    },
    {
     "cell_type": "code",
     "collapsed": false,
     "input": [
      "items = frequenciesLetters.items()\n",
      "print items"
     ],
     "language": "python",
     "metadata": {},
     "outputs": [
      {
       "output_type": "stream",
       "stream": "stdout",
       "text": [
        "[('C', 2), ('I', 14), ('M', 1), ('L', 1), ('N', 1), ('S', 1), ('R', 1), ('T', 3), ('W', 2), ('a', 26), ('c', 9), ('b', 11), ('e', 3), ('d', 6), ('g', 4), ('f', 8), ('i', 21), ('h', 10), ('k', 2), ('m', 19), ('l', 5), ('o', 16), ('n', 7), ('q', 1), ('p', 11), ('s', 21), ('r', 5), ('u', 3), ('t', 33), ('w', 18), ('v', 1), ('y', 3)]\n"
       ]
      }
     ],
     "prompt_number": 17
    },
    {
     "cell_type": "code",
     "collapsed": false,
     "input": [
      "items.sort(reverse=True)\n",
      "print items"
     ],
     "language": "python",
     "metadata": {},
     "outputs": [
      {
       "output_type": "stream",
       "stream": "stdout",
       "text": [
        "[('y', 3), ('w', 18), ('v', 1), ('u', 3), ('t', 33), ('s', 21), ('r', 5), ('q', 1), ('p', 11), ('o', 16), ('n', 7), ('m', 19), ('l', 5), ('k', 2), ('i', 21), ('h', 10), ('g', 4), ('f', 8), ('e', 3), ('d', 6), ('c', 9), ('b', 11), ('a', 26), ('W', 2), ('T', 3), ('S', 1), ('R', 1), ('N', 1), ('M', 1), ('L', 1), ('I', 14), ('C', 2)]\n"
       ]
      }
     ],
     "prompt_number": 74
    },
    {
     "cell_type": "markdown",
     "metadata": {},
     "source": [
      "But how can we sort by frequency?"
     ]
    },
    {
     "cell_type": "code",
     "collapsed": false,
     "input": [
      "print items[0]\n",
      "print items[0][1]"
     ],
     "language": "python",
     "metadata": {},
     "outputs": [
      {
       "output_type": "stream",
       "stream": "stdout",
       "text": [
        "('y', 3)\n",
        "3\n"
       ]
      }
     ],
     "prompt_number": 77
    },
    {
     "cell_type": "code",
     "collapsed": false,
     "input": [
      "def getCounts(item):\n",
      "    return item[1]\n",
      "items.sort(key= getCounts, reverse= True)\n",
      "print items"
     ],
     "language": "python",
     "metadata": {},
     "outputs": [
      {
       "output_type": "stream",
       "stream": "stdout",
       "text": [
        "[('t', 33), ('a', 26), ('s', 21), ('i', 21), ('m', 19), ('w', 18), ('o', 16), ('I', 14), ('p', 11), ('b', 11), ('h', 10), ('c', 9), ('f', 8), ('n', 7), ('d', 6), ('r', 5), ('l', 5), ('g', 4), ('y', 3), ('u', 3), ('e', 3), ('T', 3), ('k', 2), ('W', 2), ('C', 2), ('v', 1), ('q', 1), ('S', 1), ('R', 1), ('N', 1), ('M', 1), ('L', 1)]\n"
       ]
      }
     ],
     "prompt_number": 80
    },
    {
     "cell_type": "markdown",
     "metadata": {},
     "source": [
      "## Dictionaries of dictionaries (yo dawg)\n",
      "\n",
      "The dictionary below holds verbs. Each verb is the key for a dictionary of its thematic roles. Each thematic role is a dictionary of the sentence structures that the role can appear in with the verb in question."
     ]
    },
    {
     "cell_type": "code",
     "collapsed": false,
     "input": [
      "thetaMap = {}\n",
      "thetaMap[\"destroy\"] = {}\n",
      "thetaMap[\"destroy\"][\"Agent\"] = [(\"S\", \"NP V NP\"), (\"S\", \"NP V NP PP.INSTRUMENT\")]\n",
      "thetaMap[\"destroy\"][\"Patient\"] = [(\"S\", \"NP V NP\"), (\"S\", \"NP V NP PP.INSTRUMENT\"), (\"S\", \"PP.INSTRUMENT V NP\")]"
     ],
     "language": "python",
     "metadata": {},
     "outputs": [],
     "prompt_number": 18
    },
    {
     "cell_type": "code",
     "collapsed": false,
     "input": [
      "thetaMap"
     ],
     "language": "python",
     "metadata": {},
     "outputs": [
      {
       "metadata": {},
       "output_type": "pyout",
       "prompt_number": 19,
       "text": [
        "{'destroy': {'Agent': [('S', 'NP V NP'), ('S', 'NP V NP PP.INSTRUMENT')],\n",
        "  'Patient': [('S', 'NP V NP'),\n",
        "   ('S', 'NP V NP PP.INSTRUMENT'),\n",
        "   ('S', 'PP.INSTRUMENT V NP')]}}"
       ]
      }
     ],
     "prompt_number": 19
    },
    {
     "cell_type": "markdown",
     "metadata": {},
     "source": [
      "Next, let's use this for something. Let's see what syntactic structures involving the ver 'destroy' have both an Agent and a Patient."
     ]
    },
    {
     "cell_type": "code",
     "collapsed": false,
     "input": [
      "def struxOverlap(verb, role1, role2):\n",
      "    \"\"\"\n",
      "    Lists possible syntactic structures containing a given verb and two given thematic arguments\n",
      "    \n",
      "    Arguments:\n",
      "        verb (string), a verb key in thetaMap\n",
      "        role1 (string), a theta role key in thetaMap[verb]\n",
      "        role2 (string), another theta role key in thetaMap[verb]\n",
      "    \n",
      "    Returns:\n",
      "        overlap (list), the structures shared by thetaMap[verb][role1] and thetaMap[verb][role2]\n",
      "        \n",
      "    Raises:\n",
      "        nothing\n",
      "    \"\"\"\n",
      "    overlap = []\n",
      "    verbEntry = thetaMap[verb]\n",
      "\n",
      "    overlap = []\n",
      "    for strux1 in verbEntry[role1]:\n",
      "        for strux2 in verbEntry[role2]:\n",
      "            if strux1 == strux2:\n",
      "                overlap.append(strux1)\n",
      "    return overlap\n",
      "\n",
      "    # Faster but less readable alternative using list comprehension\n",
      "    #overlap2 = [strux for strux in verbEntry[role1] if strux in verbEntry[role2]]\n",
      "    #return overlap2\n",
      "\n",
      "if __name__ == \"__main__\":\n",
      "    print struxOverlap(\"destroy\", \"Agent\", \"Patient\")"
     ],
     "language": "python",
     "metadata": {},
     "outputs": [
      {
       "output_type": "stream",
       "stream": "stdout",
       "text": [
        "[('S', 'NP V NP'), ('S', 'NP V NP PP.INSTRUMENT')]\n"
       ]
      }
     ],
     "prompt_number": 23
    },
    {
     "cell_type": "markdown",
     "metadata": {},
     "source": [
      "## Building classes\n",
      "\n",
      "Recalling the basics from yesterday: Let's make a simple class and give it an attribute."
     ]
    },
    {
     "cell_type": "code",
     "collapsed": false,
     "input": [
      "class MyClass(object):\n",
      "    foo = 5\n",
      "\n",
      "felix = MyClass()\n",
      "felix.foo"
     ],
     "language": "python",
     "metadata": {},
     "outputs": [],
     "prompt_number": 24
    },
    {
     "cell_type": "markdown",
     "metadata": {},
     "source": [
      "Let's give it a method or two."
     ]
    },
    {
     "cell_type": "code",
     "collapsed": false,
     "input": [
      "class MyClass(object):\n",
      "    foo = 5\n",
      "    \n",
      "    def hello(self): #leave self out and see what happens\n",
      "        return \"Hello world!\"\n",
      "    \n",
      "    def timesTwo(self, x):\n",
      "        return x * 2\n",
      "        \n",
      "felix = MyClass()\n",
      "print felix.foo\n",
      "print felix.hello()\n",
      "print felix.timesTwo(21)"
     ],
     "language": "python",
     "metadata": {},
     "outputs": [
      {
       "output_type": "stream",
       "stream": "stdout",
       "text": [
        "5\n",
        "Hello world!\n",
        "42\n"
       ]
      }
     ],
     "prompt_number": 32
    },
    {
     "cell_type": "markdown",
     "metadata": {},
     "source": [
      "Ok, let's make better use of this. I want to make a Coin class with a weight (prob of heads) and a method to flip it that returns 'H' for 'T'"
     ]
    },
    {
     "cell_type": "code",
     "collapsed": false,
     "input": [
      "import random # This lets us generate a random number from 0 to 1, using random.random()\n",
      "\n",
      "class Coin(object):\n",
      "    # Create a coin using Coin(nickname, weight)\n",
      "    def __init__(self, nickname, weight):\n",
      "        self.nickname = str(nickname)\n",
      "        self.weight = float(weight)\n",
      "    \n",
      "    # Print the coin's name followed by its weight\n",
      "    def __str__(self):\n",
      "        return self.nickname + \": \" + str(self.weight)\n",
      "    \n",
      "    # More complicated __str__ method\n",
      "    #def __str__(self):\n",
      "    #    percentH = int(self.weight * 100)\n",
      "    #    percentT = int(100 - percentH)\n",
      "    #    return \"This coin's called '%s'! \\nIt returns heads about %d percent of the time and tails %d percent of the time.\" % (self.nickname, percentH, percentT)\n",
      "\n",
      "    # Flip the coin and return 'H' or 'T'\n",
      "    def flip(self):\n",
      "        randomPoint = random.random() # Sets randomPoint to a number between 0 and 1\n",
      "        if randomPoint < self.weight: # Compares the random point with the coin's weight\n",
      "            return 'H'\n",
      "        else:\n",
      "            return 'T'\n",
      "\n",
      "if __name__ == \"__main__\":\n",
      "    lucky = Coin(\"Lucky\",.72)\n",
      "    print lucky\n",
      "    print lucky.weight\n",
      "    print lucky.flip()\n"
     ],
     "language": "python",
     "metadata": {},
     "outputs": [
      {
       "output_type": "stream",
       "stream": "stdout",
       "text": [
        "Lucky: 0.72\n",
        "0.72\n",
        "T\n"
       ]
      }
     ],
     "prompt_number": 94
    },
    {
     "cell_type": "code",
     "collapsed": false,
     "input": [
      "lucky = Coin(\"Lucky\",.72)\n",
      "fairlady = Coin(\"The Fair Lady\",.5)\n",
      "bob = Coin(\"Bob\",.2)\n",
      "\n",
      "coinList = [lucky, fairlady, bob]\n",
      "\n",
      "for coin in coinList:\n",
      "    print coin"
     ],
     "language": "python",
     "metadata": {},
     "outputs": [
      {
       "output_type": "stream",
       "stream": "stdout",
       "text": [
        "Lucky: 0.72\n",
        "The Fair Lady: 0.5\n",
        "Bob: 0.2\n"
       ]
      }
     ],
     "prompt_number": 95
    },
    {
     "cell_type": "code",
     "collapsed": false,
     "input": [
      "for coin in coinList:\n",
      "    print coin\n",
      "    flips = []\n",
      "    for i in range(0,10):\n",
      "        flips.append(coin.flip())\n",
      "    print \" \".join(flips)"
     ],
     "language": "python",
     "metadata": {},
     "outputs": [
      {
       "output_type": "stream",
       "stream": "stdout",
       "text": [
        "Lucky: 0.72\n",
        "H H H H H T H H H H\n",
        "The Fair Lady: 0.5\n",
        "H T T H T H T T T T\n",
        "Bob: 0.2\n",
        "T H T T T H T T H T\n"
       ]
      }
     ],
     "prompt_number": 98
    },
    {
     "cell_type": "markdown",
     "metadata": {},
     "source": [
      "Anyway, that's not linguistics. Let's made a more useful class!"
     ]
    },
    {
     "cell_type": "markdown",
     "metadata": {},
     "source": [
      "## Noun class\n",
      "\n",
      "Let's build a class called **Noun**. It should do the following:\n",
      "\n",
      "- Nouns have singular and plural forms, a mass/count distinction, (and something else of your choice)\n",
      "- All of these should work:\n",
      "    - `apple = Noun(\"apple\")`  \n",
      "      `goose = Noun(\"goose\",\"geese\")`  \n",
      "      `gohan = Noun(\"rice\",mass=True)`\n",
      "    - I.e., If we don't specify a plural, it should be set automatically, and nouns are count unless specified\n",
      "- Printing an instance of Noun should tell you everything you know about it, in a readable way.\n",
      "- The method `isCount()` should tell you whether the noun is mass or count.\n",
      "- The method `thereAre(int)` should pluralizes correctly, given how many of the noun there are:\n",
      "    - `apple.thereAre(3)` returns the string `\"3 apples\"`\n",
      "    - `apple.thereAre(1)` returns the string `\"1 apple\"`\n",
      "    - `gohan.thereAre(4)` returns the string `\"'rice' is a mass noun\"`\n",
      "- There should be a method that interacts with the extra atrribute you made."
     ]
    },
    {
     "cell_type": "code",
     "collapsed": false,
     "input": [
      "class Noun(object):\n",
      "    \n",
      "    # Nouns have regular plurals and are count by default.\n",
      "    # Mass nouns also get regular plurals, in case we ever want to talk about kinds\n",
      "    def __init__(self,sing,pl=None,mass=False):\n",
      "        self.sing = str(sing)\n",
      "        self.mass = mass\n",
      "        if pl != None:\n",
      "            self.pl = str(pl)\n",
      "        else:\n",
      "            self.pl = self.sing + \"s\"\n",
      "            \n",
      "    def __str__(self):\n",
      "        return \"singular: \" + self.sing + \"\\nplural: \" + self.pl + \"\\nmass noun: \" + str(self.mass)\n",
      "    \n",
      "    def isCount(self):\n",
      "        return not self.mass\n",
      "    \n",
      "    def thereAre(self, num):\n",
      "        # Weed out the mass nouns\n",
      "        if self.mass:\n",
      "            return \"'\" + self.sing + \"' is a mass noun.\"\n",
      "        # Use the singular form if there's only one\n",
      "        elif num == 1:\n",
      "            return str(num) + \" \" + self.sing\n",
      "        # Use the plural form otherwise, which includes for zero and negative ints\n",
      "        else:\n",
      "            return str(num) + \" \" + self.pl\n",
      "    \n",
      "def testCases():\n",
      "    '''Makes entries for \"apple\", \"goose\", and \"rice\"'''\n",
      "    apple = Noun(\"apple\")\n",
      "    print apple\n",
      "    print apple.isCount()\n",
      "    print apple.thereAre(4)\n",
      "    print apple.thereAre(1)\n",
      "    print apple.thereAre(0)\n",
      "\n",
      "    print\n",
      "\n",
      "    goose = Noun(\"goose\",\"geese\")\n",
      "    print goose\n",
      "    print goose.isCount()\n",
      "    print goose.thereAre(4)\n",
      "    print goose.thereAre(1)\n",
      "    print goose.thereAre(0)\n",
      "\n",
      "    print\n",
      "\n",
      "    gohan = Noun(\"rice\",mass=True)\n",
      "    print gohan\n",
      "    print gohan.isCount()\n",
      "    print gohan.thereAre(4)\n",
      "    print gohan.thereAre(1)\n",
      "    print gohan.thereAre(0)\n",
      "    \n",
      "if __name__ == \"__main__\":\n",
      "    testCases()"
     ],
     "language": "python",
     "metadata": {},
     "outputs": [
      {
       "output_type": "stream",
       "stream": "stdout",
       "text": [
        "singular: apple\n",
        "plural: apples\n",
        "mass noun: False\n",
        "True\n",
        "4 apples\n",
        "1 apple\n",
        "0 apples\n",
        "\n",
        "singular: goose\n",
        "plural: geese\n",
        "mass noun: False\n",
        "True\n",
        "4 geese\n",
        "1 goose\n",
        "0 geese\n",
        "\n",
        "singular: rice\n",
        "plural: rices\n",
        "mass noun: True\n",
        "False\n",
        "'rice' is a mass noun.\n",
        "'rice' is a mass noun.\n",
        "'rice' is a mass noun.\n"
       ]
      }
     ],
     "prompt_number": 113
    },
    {
     "cell_type": "code",
     "collapsed": false,
     "input": [],
     "language": "python",
     "metadata": {},
     "outputs": []
    }
   ],
   "metadata": {}
  }
 ]
}