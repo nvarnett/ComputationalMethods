{
 "metadata": {
  "name": ""
 },
 "nbformat": 3,
 "nbformat_minor": 0,
 "worksheets": [
  {
   "cells": [
    {
     "cell_type": "heading",
     "level": 1,
     "metadata": {},
     "source": [
      "What is a computer?"
     ]
    },
    {
     "cell_type": "markdown",
     "metadata": {},
     "source": [
      "<img src=\"http://wikieducator.org/images/b/bc/CR-rie.jpg\"/>\n",
      "\n",
      "<iframe width=\"100%\" src=\"http://wikieducator.org/Block_diagram_of_computer\"/>"
     ]
    },
    {
     "cell_type": "markdown",
     "metadata": {},
     "source": [
      "The Arithmetic Logic Unit\n",
      "--------------------------"
     ]
    },
    {
     "cell_type": "code",
     "collapsed": false,
     "input": [
      "from IPython.lib.display import YouTubeVideo\n",
      "vid = YouTubeVideo(\"UsK5KV1FPmA\")\n",
      "from IPython.core.display import display\n",
      "display(vid)"
     ],
     "language": "python",
     "metadata": {},
     "outputs": [
      {
       "html": [
        "\n",
        "        <iframe\n",
        "            width=\"400\"\n",
        "            height=300\"\n",
        "            src=\"http://www.youtube.com/embed/UsK5KV1FPmA\"\n",
        "            frameborder=\"0\"\n",
        "            allowfullscreen\n",
        "        ></iframe>\n",
        "        "
       ],
       "metadata": {},
       "output_type": "display_data",
       "text": [
        "<IPython.lib.display.YouTubeVideo at 0x107fde5d0>"
       ]
      }
     ],
     "prompt_number": 12
    },
    {
     "cell_type": "raw",
     "metadata": {},
     "source": [
      "How to subtract:\n",
      "12 -7 = 12 + (-7)\n",
      "\n",
      "7 + (-7) = 0\n",
      "\n",
      "   0111 = 0*2^3 + 1*2^2 + 1*2^1 + 1*2^0\n",
      "+  1001\n",
      "   0000 = 16"
     ]
    },
    {
     "cell_type": "markdown",
     "metadata": {},
     "source": [
      "What is a program?\n",
      "------------------\n",
      "\n",
      "A program is a set of instructions: a specification for how a computer should process some pieces of data in memory.\n",
      "\n",
      "The simplest specification of a computer is a $n$-state, 2-symbol [Turing Machine](http://en.wikipedia.org/wiki/Turing_machine), a machine that describes one specific series of operations:  \n",
      "\n",
      "- memory is a tape of infinite length, broken up into cells\n",
      "- the main actor is a *head* (q, below) that can move Left or Right and insert into/overwrite cells\n",
      "- cells can be written with two symbols: 1 or 0\n",
      "- the machine has *n* distinct states (environments); the final one is called **Halt**.\n",
      "    * below, the machine is in state 23\n",
      "- instructions are conditional movement and writing:\n",
      "\n",
      "    * conditions:\n",
      "        1. what symbol is under the head\n",
      "        2. what *state* the machine is in\n",
      "    * operations:\n",
      "        1. what symbol is written in the cell\n",
      "        2. where the head goes after\n",
      "        3. what the new state is\n",
      "\n"
     ]
    },
    {
     "cell_type": "markdown",
     "metadata": {},
     "source": [
      "\n",
      "<svg\n",
      "   xmlns:dc=\"http://purl.org/dc/elements/1.1/\"\n",
      "   xmlns:cc=\"http://web.resource.org/cc/\"\n",
      "   xmlns:rdf=\"http://www.w3.org/1999/02/22-rdf-syntax-ns#\"\n",
      "   xmlns:svg=\"http://www.w3.org/2000/svg\"\n",
      "   xmlns=\"http://www.w3.org/2000/svg\"\n",
      "   xmlns:sodipodi=\"http://sodipodi.sourceforge.net/DTD/sodipodi-0.dtd\"\n",
      "   xmlns:inkscape=\"http://www.inkscape.org/namespaces/inkscape\"\n",
      "   width=\"550\"\n",
      "   height=\"130\"\n",
      "   id=\"svg3282\"\n",
      "   sodipodi:version=\"0.32\"\n",
      "   inkscape:version=\"0.45.1\"\n",
      "   version=\"1.0\"\n",
      "   sodipodi:docbase=\"C:\\Documents and Settings\\Alex\\My Documents\\Desktop\"\n",
      "   sodipodi:docname=\"Turing_machine_2b.svg\"\n",
      "   inkscape:output_extension=\"org.inkscape.output.svg.inkscape\">\n",
      "  <defs\n",
      "     id=\"defs3284\" />\n",
      "  <sodipodi:namedview\n",
      "     id=\"base\"\n",
      "     pagecolor=\"#ffffff\"\n",
      "     bordercolor=\"#666666\"\n",
      "     borderopacity=\"1.0\"\n",
      "     gridtolerance=\"10000\"\n",
      "     guidetolerance=\"10\"\n",
      "     objecttolerance=\"10\"\n",
      "     inkscape:pageopacity=\"0.0\"\n",
      "     inkscape:pageshadow=\"2\"\n",
      "     inkscape:zoom=\"1.5004828\"\n",
      "     inkscape:cx=\"257.49958\"\n",
      "     inkscape:cy=\"57.738431\"\n",
      "     inkscape:document-units=\"px\"\n",
      "     inkscape:current-layer=\"layer1\"\n",
      "     width=\"550px\"\n",
      "     height=\"130px\"\n",
      "     inkscape:window-width=\"1376\"\n",
      "     inkscape:window-height=\"862\"\n",
      "     inkscape:window-x=\"66\"\n",
      "     inkscape:window-y=\"7\" />\n",
      "  <metadata\n",
      "     id=\"metadata3287\">\n",
      "    <rdf:RDF>\n",
      "      <cc:Work\n",
      "         rdf:about=\"\">\n",
      "        <dc:format>image/svg+xml</dc:format>\n",
      "        <dc:type\n",
      "           rdf:resource=\"http://purl.org/dc/dcmitype/StillImage\" />\n",
      "      </cc:Work>\n",
      "    </rdf:RDF>\n",
      "  </metadata>\n",
      "  <g\n",
      "     inkscape:label=\"Layer 1\"\n",
      "     inkscape:groupmode=\"layer\"\n",
      "     id=\"layer1\"\n",
      "     transform=\"translate(-19.493564,-27.459454)\">\n",
      "    <rect\n",
      "       style=\"opacity:1;color:#000000;fill:#b3b3b3;fill-opacity:1;fill-rule:nonzero;stroke:none;stroke-width:1;stroke-linecap:butt;stroke-linejoin:miter;marker:none;marker-start:none;marker-mid:none;marker-end:none;stroke-miterlimit:4;stroke-dasharray:none;stroke-dashoffset:0;stroke-opacity:1;visibility:visible;display:inline;overflow:visible\"\n",
      "       id=\"rect7559\"\n",
      "       width=\"220.54633\"\n",
      "       height=\"54.665329\"\n",
      "       x=\"240.03989\"\n",
      "       y=\"33.713634\" />\n",
      "    <path\n",
      "       id=\"path6528\"\n",
      "       style=\"fill:none;fill-rule:evenodd;stroke:#000000;stroke-width:1px;stroke-linecap:butt;stroke-linejoin:miter;stroke-opacity:1\"\n",
      "       d=\"M 77.4749,34.156155 L 77.4749,88.80523 M 132.12397,88.80523 L 132.12397,34.156155 M 186.10659,34.001383 L 186.10659,88.80523 M 240.08922,33.960956 L 240.56047,88.80523 M 295.40474,34.196582 L 295.40474,88.886084 M 351.38672,34.196582 L 351.38672,88.80523 M 404.03644,34.137676 L 404.03644,88.529176 M 460.68488,34.237009 L 460.68488,88.80523 M 514.00105,34.351354 L 514.00105,88.845657 M 31.593836,34.156155 C 30.163236,36.386253 30.4809,37.884664 30.331212,40.422613 C 30.34095,42.3036 32.471598,44.418373 33.895219,45.925997 C 36.595422,51.928735 26.563751,50.261931 26.721415,55.558909 C 26.767103,58.004412 29.692301,57.077754 31.090656,58.777726 C 33.247987,62.324226 28.444595,64.358454 30.616511,67.907804 C 32.163306,70.783254 34.856521,71.152254 34.557327,74.355211 C 33.749075,76.558743 29.610347,81.191623 30.239823,83.606109 C 29.766538,81.160932 30.894179,88.23559 30.844077,88.80523 L 559.15318,88.85403 C 558.28181,87.022651 556.13932,86.78887 556.99175,84.291458 C 556.92279,81.502041 559.54528,79.952595 560.8512,77.842066 C 561.85012,75.119048 559.57784,72.767433 558.64702,70.3859 C 556.88579,68.178114 556.63452,65.204021 558.96944,63.284859 C 560.25815,61.555271 562.76091,60.744373 563.14074,58.410951 C 563.91654,55.781515 561.63368,53.726503 559.48963,52.704876 C 556.92894,51.75942 556.5573,48.058249 559.38061,47.20818 C 562.55102,46.300058 560.44471,42.797275 558.36247,41.945514 C 555.73257,40.115865 556.58109,35.552399 559.23649,34.114502 L 295.41516,34.135329 L 31.593836,34.156155 z \"\n",
      "       sodipodi:nodetypes=\"ccccccccccccccccccccccccccccccccccccccc\" />\n",
      "    <path\n",
      "       style=\"fill:none;fill-rule:evenodd;stroke:#000000;stroke-width:1px;stroke-linecap:butt;stroke-linejoin:miter;stroke-opacity:1\"\n",
      "       d=\"M 313.39895,124.12719 L 268.74666,88.138778 C 222.76146,124.79365 222.76146,124.79365 222.76146,124.79365 C 222.76146,152.11818 222.76146,152.11818 222.76146,152.11818 C 313.39895,152.11818 313.39895,152.11818 313.39895,152.11818 C 313.39895,124.12719 313.39895,131.12494 313.39895,124.12719 z \"\n",
      "       id=\"path6573\"\n",
      "       sodipodi:nodetypes=\"cccccc\" />\n",
      "    <text\n",
      "       xml:space=\"preserve\"\n",
      "       style=\"font-size:32px;font-style:normal;font-weight:normal;fill:#000000;fill-opacity:1;stroke:none;stroke-width:1px;stroke-linecap:butt;stroke-linejoin:miter;stroke-opacity:1;font-family:Arial\"\n",
      "       x=\"46.151649\"\n",
      "       y=\"74.068832\"\n",
      "       id=\"text6576\"><tspan\n",
      "         sodipodi:role=\"line\"\n",
      "         id=\"tspan6578\"\n",
      "         x=\"46.151649\"\n",
      "         y=\"74.068832\">0</tspan></text>\n",
      "    <text\n",
      "       xml:space=\"preserve\"\n",
      "       style=\"font-size:32px;font-style:normal;font-weight:normal;fill:#000000;fill-opacity:1;stroke:none;stroke-width:1px;stroke-linecap:butt;stroke-linejoin:miter;stroke-opacity:1;font-family:Arial\"\n",
      "       x=\"254.75116\"\n",
      "       y=\"132.79108\"\n",
      "       id=\"text6582\"><tspan\n",
      "         sodipodi:role=\"line\"\n",
      "         id=\"tspan6584\"\n",
      "         x=\"254.75116\"\n",
      "         y=\"132.79108\">q</tspan></text>\n",
      "    <text\n",
      "       xml:space=\"preserve\"\n",
      "       style=\"font-size:22px;font-style:normal;font-weight:normal;fill:#000000;fill-opacity:1;stroke:none;stroke-width:1px;stroke-linecap:butt;stroke-linejoin:miter;stroke-opacity:1;font-family:Arial\"\n",
      "       x=\"275.41116\"\n",
      "       y=\"148.78592\"\n",
      "       id=\"text6586\"><tspan\n",
      "         sodipodi:role=\"line\"\n",
      "         id=\"tspan6588\"\n",
      "         x=\"275.41116\"\n",
      "         y=\"148.78592\">23</tspan></text>\n",
      "    <text\n",
      "       xml:space=\"preserve\"\n",
      "       style=\"font-size:32px;font-style:normal;font-weight:normal;fill:#000000;fill-opacity:1;stroke:none;stroke-width:1px;stroke-linecap:butt;stroke-linejoin:miter;stroke-opacity:1;font-family:Arial\"\n",
      "       x=\"96.002563\"\n",
      "       y=\"74.068832\"\n",
      "       id=\"text2166\"><tspan\n",
      "         sodipodi:role=\"line\"\n",
      "         id=\"tspan2168\"\n",
      "         x=\"96.002563\"\n",
      "         y=\"74.068832\">0</tspan></text>\n",
      "    <text\n",
      "       xml:space=\"preserve\"\n",
      "       style=\"font-size:32px;font-style:normal;font-weight:normal;fill:#000000;fill-opacity:1;stroke:none;stroke-width:1px;stroke-linecap:butt;stroke-linejoin:miter;stroke-opacity:1;font-family:Arial\"\n",
      "       x=\"150.00256\"\n",
      "       y=\"74.068832\"\n",
      "       id=\"text2178\"><tspan\n",
      "         sodipodi:role=\"line\"\n",
      "         id=\"tspan2180\"\n",
      "         x=\"150.00256\"\n",
      "         y=\"74.068832\">0</tspan></text>\n",
      "    <text\n",
      "       xml:space=\"preserve\"\n",
      "       style=\"font-size:32px;font-style:normal;font-weight:normal;fill:#000000;fill-opacity:1;stroke:none;stroke-width:1px;stroke-linecap:butt;stroke-linejoin:miter;stroke-opacity:1;font-family:Arial\"\n",
      "       x=\"204.00256\"\n",
      "       y=\"74.068832\"\n",
      "       id=\"text2182\"><tspan\n",
      "         sodipodi:role=\"line\"\n",
      "         id=\"tspan2184\"\n",
      "         x=\"204.00256\"\n",
      "         y=\"74.068832\">0</tspan></text>\n",
      "    <text\n",
      "       xml:space=\"preserve\"\n",
      "       style=\"font-size:32px;font-style:normal;font-weight:normal;fill:#000000;fill-opacity:1;stroke:none;stroke-width:1px;stroke-linecap:butt;stroke-linejoin:miter;stroke-opacity:1;font-family:Arial\"\n",
      "       x=\"258.00256\"\n",
      "       y=\"74.068832\"\n",
      "       id=\"text2186\"><tspan\n",
      "         sodipodi:role=\"line\"\n",
      "         id=\"tspan2188\"\n",
      "         x=\"258.00256\"\n",
      "         y=\"74.068832\">0</tspan></text>\n",
      "    <text\n",
      "       xml:space=\"preserve\"\n",
      "       style=\"font-size:32px;font-style:normal;font-weight:normal;fill:#000000;fill-opacity:1;stroke:none;stroke-width:1px;stroke-linecap:butt;stroke-linejoin:miter;stroke-opacity:1;font-family:Arial\"\n",
      "       x=\"316.00256\"\n",
      "       y=\"74.068832\"\n",
      "       id=\"text2190\"><tspan\n",
      "         sodipodi:role=\"line\"\n",
      "         id=\"tspan2192\"\n",
      "         x=\"316.00256\"\n",
      "         y=\"74.068832\">1</tspan></text>\n",
      "    <text\n",
      "       xml:space=\"preserve\"\n",
      "       style=\"font-size:32px;font-style:normal;font-weight:normal;fill:#000000;fill-opacity:1;stroke:none;stroke-width:1px;stroke-linecap:butt;stroke-linejoin:miter;stroke-opacity:1;font-family:Arial\"\n",
      "       x=\"366.00256\"\n",
      "       y=\"74.068832\"\n",
      "       id=\"text2194\"><tspan\n",
      "         sodipodi:role=\"line\"\n",
      "         id=\"tspan2196\"\n",
      "         x=\"366.00256\"\n",
      "         y=\"74.068832\">1</tspan></text>\n",
      "    <text\n",
      "       xml:space=\"preserve\"\n",
      "       style=\"font-size:32px;font-style:normal;font-weight:normal;fill:#000000;fill-opacity:1;stroke:none;stroke-width:1px;stroke-linecap:butt;stroke-linejoin:miter;stroke-opacity:1;font-family:Arial\"\n",
      "       x=\"424.00256\"\n",
      "       y=\"74.068832\"\n",
      "       id=\"text2198\"><tspan\n",
      "         sodipodi:role=\"line\"\n",
      "         id=\"tspan2200\"\n",
      "         x=\"424.00256\"\n",
      "         y=\"74.068832\">1</tspan></text>\n",
      "    <text\n",
      "       xml:space=\"preserve\"\n",
      "       style=\"font-size:32px;font-style:normal;font-weight:normal;fill:#000000;fill-opacity:1;stroke:none;stroke-width:1px;stroke-linecap:butt;stroke-linejoin:miter;stroke-opacity:1;font-family:Arial\"\n",
      "       x=\"478.00256\"\n",
      "       y=\"74.068832\"\n",
      "       id=\"text2202\"><tspan\n",
      "         sodipodi:role=\"line\"\n",
      "         id=\"tspan2204\"\n",
      "         x=\"478.00256\"\n",
      "         y=\"74.068832\">0</tspan></text>\n",
      "    <text\n",
      "       xml:space=\"preserve\"\n",
      "       style=\"font-size:32px;font-style:normal;font-weight:normal;fill:#000000;fill-opacity:1;stroke:none;stroke-width:1px;stroke-linecap:butt;stroke-linejoin:miter;stroke-opacity:1;font-family:Arial\"\n",
      "       x=\"528.00256\"\n",
      "       y=\"74.068832\"\n",
      "       id=\"text2206\"><tspan\n",
      "         sodipodi:role=\"line\"\n",
      "         id=\"tspan2208\"\n",
      "         x=\"528.00256\"\n",
      "         y=\"74.068832\">0</tspan></text>\n",
      "  </g>\n",
      "</svg>\n"
     ]
    },
    {
     "cell_type": "markdown",
     "metadata": {},
     "source": [
      "Example Turing Machines\n",
      "------------------------\n",
      "[javascript simulator](http://morphett.info/turing/turing.html)\n",
      "\n",
      "[physical machine](http://aturingmachine.com/examples.php)"
     ]
    },
    {
     "cell_type": "markdown",
     "metadata": {},
     "source": [
      "$n$-Busy Beaver\n",
      "-----------\n",
      "\n",
      "The Turing Machine with $n$-states that writes the most 1s on a tape of 0s before stopping (has to stop).\n",
      "\n",
      "\n",
      "1-Busy Beaver: 1\n",
      "\n",
      "State| A  \n",
      "-|-\n",
      "0 | 1R*H*  \n",
      "1 | --\n",
      "\n",
      "\n",
      "2-Busy Beaver : 4\n",
      "\n",
      " | A | B\n",
      " -|-\n",
      " 0 | 1RB | 1LA\n",
      " 1 | 1LB | 1R*H*\n",
      "\n",
      "3-Busy Beaver : 6\n",
      "\n",
      " | A | B | C\n",
      " -|-|-\n",
      " 0 | 1RB | 0RC |1LC\n",
      " 1 | 1R*H* | 1RB| 1LA\n",
      "\n",
      "4-Busy Beaver : 13\n",
      "\n",
      " | A | B | C | D\n",
      " -|-|-|-\n",
      " 0 | 1RB | 1LA |1R*H*| 1RD\n",
      " 1 | 1LB | 0LC | 1LD | 0RA\n",
      " \n",
      " Above 4, we don't know what the optimum is! 5-BB current best is 4098 1s, 6-BB current best is 3.5 x 10^18267\n"
     ]
    },
    {
     "cell_type": "markdown",
     "metadata": {},
     "source": [
      "Universal Turing Machine\n",
      "------------------------\n",
      "\n",
      "TUring demonstrated in 1936 that one can model any Turing machine by constructing a Turing Machine that first reads the state table and then moves on to the input.\n",
      "\n",
      "> It is possible to invent a single machine which can be used\n",
      "> to compute any computable sequence. If this machine U is \n",
      "> supplied with the tape on the beginning of which is written \n",
      "> the string of quintuples separated by semicolons of some \n",
      "> computing machine M [i.e., our tables; PA]\n",
      "> , then U will compute the same sequence as M.\n",
      "\n",
      "This means, in essence, that we can model any special purpose computer program by a more general system. Modernly, we call any language that can capture this capacity **Turing complete**.\n",
      "\n",
      "All the major modern languages (C, Python, Perl, Ruby, Pascal, Java, Javascript, ...) are Turing complete. This means they can all do exactly what the other does. Disagreements are ultimately about elegance and speed."
     ]
    },
    {
     "cell_type": "markdown",
     "metadata": {},
     "source": [
      "Types of programming languages\n",
      "-------------------------------"
     ]
    },
    {
     "cell_type": "markdown",
     "metadata": {},
     "source": [
      "Machine language\n",
      "----------------\n",
      "\n",
      "* the language used by the computer itself; instruction \"lines\" are a set of bits (often fixed size)\n",
      "    1. each CPU has a specific *instruction set*: a series of primitive operations\n",
      "        * data handling: load some data into a register or memory, set a register, read/write from hardware\n",
      "        * ALU: add/multiply/subtract/divide/compare two values in registers\n",
      "        * Jump: move to another piece of code in memory\n",
      "    2. precise operation coded by an *op code*\n",
      "    3. arguments to function in remainder of instruction line\n",
      "    \n",
      "    <iframe src=\"http://en.wikipedia.org/wiki/Machine_code#Example\" width=\"100%\"/>\n",
      "    "
     ]
    },
    {
     "cell_type": "markdown",
     "metadata": {},
     "source": [
      "What are jumps for? (So much!)\n",
      "\n",
      "* executing function calls\n",
      "* loops\n",
      "* conditionals"
     ]
    },
    {
     "cell_type": "markdown",
     "metadata": {},
     "source": [
      "Assembly\n",
      "---------\n",
      "\n",
      "* One level up from machine language; not numbers but strings\n",
      "* Operations given by mnemonics (e.g., add)\n",
      "* Registers in memory given by names\n",
      "* Numbers represented in decimal or hexidecimal\n",
      "* Can have variables!\n",
      "\n",
      "* Workflow:\n",
      "    1. Code is written in assembly\n",
      "    2. A *compiler* converts the human readable code to machine instructions.\n",
      "        * some tricky issues about how to handle variables, but pretty straightforward."
     ]
    },
    {
     "cell_type": "markdown",
     "metadata": {},
     "source": [
      "Higher Level Languages\n",
      "----------------------\n",
      "\n",
      "* Designed to be:\n",
      "    1. less dependent on actual computer structure\n",
      "    2. more readable; easier to debug\n",
      "\n",
      "* These languages differ not in *what* they do, but *how* they do it."
     ]
    },
    {
     "cell_type": "markdown",
     "metadata": {},
     "source": [
      "Major issues\n",
      "------------\n",
      "\n",
      "* Interpreted vs. Compiled\n",
      "    - interpreted languages: programs are executed line by line via a Turing machine *virtual machine*, which translates to machine language on the fly\n",
      "    - compiled languages: programs are converted to machine code prior to execution\n",
      "    - interpreted languages allow rich interaction, but often pay a price in lack of optimization\n",
      "    \n",
      "* Object-oriented\n",
      "    - object: [a conglomeration of \"nouns\" and \"verbs\"](http://en.wikipedia.org/wiki/Object-oriented_programming)\n",
      "        * nouns: data, called **properties**\n",
      "        * verbs: actions on that data, called **methods**\n",
      "    - object-oriented programming assumes parts of programs can be parceled into data and commmon applications to that data \n",
      "\n",
      "* Imperative vs. declarative\n",
      "    - imperative: statements are commands to change state in a particular way\n",
      "    - declarative: statements define what the program should do without giving the precise algorithm\n",
      "        * logic: programs are statements in first order logic\n",
      "        * functional: programs are collections of functions alone; there is no state at all\n",
      "* Data types\n",
      "    - strongly vs. weakly types\n",
      "        * strongly typed: values have a clear type; to change the type one must overtly *cast* the value\n",
      "        * weakly typed: implicit coercion of values from one type to another are allowed\n",
      "    - static vs. dynamic type-checking\n",
      "        * static: the type of a value is determined from the text (at compile time) and used to make sure the right types are being used\n",
      "        * dynamic: the type of a value is determined at run time"
     ]
    },
    {
     "cell_type": "markdown",
     "metadata": {},
     "source": [
      "* Python is:\n",
      "    - interpreted\n",
      "    - object oriented\n",
      "    - imperative with functional parts\n",
      "    - weakly & dynamically typed"
     ]
    },
    {
     "cell_type": "markdown",
     "metadata": {},
     "source": [
      "What do programs have in them?\n",
      "------------------------------\n",
      "\n",
      "* statements\n",
      "    - function calls\n",
      "    - operations\n",
      "    - assignments\n",
      "\n",
      "* control flow structures\n",
      "    - loops: iterate processes\n",
      "    - conditionals: specify if some code should be run"
     ]
    },
    {
     "cell_type": "markdown",
     "metadata": {},
     "source": [
      "Fundamental concepts in programs\n",
      "--------------------------------\n",
      "+ scope"
     ]
    },
    {
     "cell_type": "markdown",
     "metadata": {},
     "source": [
      "+ namespace"
     ]
    },
    {
     "cell_type": "markdown",
     "metadata": {},
     "source": [
      "+ variables can be anything as long as they don't **start** with a number, aren't a reserved word, and don't have one of these in them: = + ! - . / : ; \" ' \\ ` ~\n",
      "\n",
      "+ reserved/key words\n",
      "\n",
      "| and       del       from      not       while\n",
      "| as        elif      global    or        with\n",
      "| assert    else      if        pass      yield\n",
      "| break     except    import    print\n",
      "| class     exec      in        raise\n",
      "| continue  finally   is        return\n",
      "| def       for       lambda    try"
     ]
    },
    {
     "cell_type": "markdown",
     "metadata": {},
     "source": [
      "+ functions\n",
      "    + function calls\n",
      "    + function arguments\n",
      "    + function returns"
     ]
    },
    {
     "cell_type": "markdown",
     "metadata": {},
     "source": [
      "+ errors and error handling"
     ]
    },
    {
     "cell_type": "markdown",
     "metadata": {},
     "source": [
      "+ objects"
     ]
    },
    {
     "cell_type": "markdown",
     "metadata": {},
     "source": [
      "+ syntactic exactitude\n",
      "    + new lines matter\n",
      "    + colons matter\n",
      "    + parentheses matter (except print)\n",
      "    + periods matter\n",
      "    + spaces matter (in strings, with objects)"
     ]
    }
   ],
   "metadata": {}
  }
 ]
}