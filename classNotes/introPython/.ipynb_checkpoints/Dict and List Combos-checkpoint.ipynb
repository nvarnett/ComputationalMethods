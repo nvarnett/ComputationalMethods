{
 "metadata": {
  "name": ""
 },
 "nbformat": 3,
 "nbformat_minor": 0,
 "worksheets": [
  {
   "cells": [
    {
     "cell_type": "markdown",
     "metadata": {},
     "source": [
      "* Dict of dicts is good for any matrix data where:\n",
      "\n",
      "    1. the indices are best thought of as strings\n",
      "    2. there will be a lot of missing values.\n",
      "\n",
      "One simple case: joint frequency distribution\n",
      "    How likely are word1 and word2 to be seen together?"
     ]
    },
    {
     "cell_type": "markdown",
     "metadata": {},
     "source": [
      "Dict of lists is good for ordered data, broken up by type\n",
      "\n",
      "One simple case: longitudinal behavioral data from multiple subjects"
     ]
    },
    {
     "cell_type": "markdown",
     "metadata": {},
     "source": [
      "List of dicts is good for ordered sequence of multidimensional data\n",
      "\n",
      "One simple case: a sequence of tokens, where tokens are are set of complex properties"
     ]
    }
   ],
   "metadata": {}
  }
 ]
}