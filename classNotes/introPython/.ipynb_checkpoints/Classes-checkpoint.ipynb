{
 "metadata": {
  "name": ""
 },
 "nbformat": 3,
 "nbformat_minor": 0,
 "worksheets": [
  {
   "cells": [
    {
     "cell_type": "markdown",
     "metadata": {},
     "source": [
      "Classes are container types\n",
      "\n",
      "* can contain things/date (nouns): attributes\n",
      "* can contain actions/functions (verbs): methods\n",
      "* have a *namespace* (__dict__):\n",
      "    * namespace: a local denotation function from names to elements in memory\n",
      "    * these are dictionaries\n",
      "    * others are locals, globals, and the `__dict__` attribute of a module\n",
      " "
     ]
    },
    {
     "cell_type": "code",
     "collapsed": false,
     "input": [
      "def fa():\n",
      "    x = 5\n",
      "    print locals()\n",
      "    print globals()\n",
      "    \n",
      "print fa\n",
      "fa()\n",
      "#locals()"
     ],
     "language": "python",
     "metadata": {},
     "outputs": [
      {
       "output_type": "stream",
       "stream": "stdout",
       "text": [
        "<function fa at 0x1022d6cf8>\n",
        "{'x': 5}\n",
        "{'_dh': [u'/Users/panand/Dropbox/Courses/1314/144/class/classNotes/introduction'], '__': {...}, 'help': Type help() for interactive help, or help(object) for help about object., 'quit': <IPython.core.autocall.ZMQExitAutocall object at 0x1022bfa90>, '__builtins__': <module '__builtin__' (built-in)>, '_3': {...}, '_ih': ['', u'def fa():\\n    return\\n\\nprint fa', u'def fa():\\n    x = 5\\n    return\\n    locals()\\n    globals()\\n    \\nprint fa\\nlocals()', u'def fa():\\n    x = 5\\n    return\\n    locals()\\n    #globals()\\n    \\nprint fa\\nlocals()', u'def fa():\\n    x = 5\\n    return\\n    locals()\\n    #globals()\\n    \\nprint fa\\n#locals()', u'def fa():\\n    x = 5\\n    return\\n    print locals()\\n    #globals()\\n    \\nprint fa\\n#locals()', u'def fa():\\n    x = 5\\n    return\\n    print locals()\\n    #globals()\\n    \\nprint fa\\n#locals()', u'def fa():\\n    x = 5\\n    return\\n    print locals()\\n    #globals()\\n    \\nprint fa\\nfa()\\n#locals()', u'def fa():\\n    x = 5\\n    return\\n    print locals()\\n    #globals()\\n    \\nprint fa\\nfa()\\n#locals()', u'def fa():\\n    x = 5\\n    return\\n    print locals()\\n    #globals()\\n    \\nprint fa\\nfa()\\n#locals()', u'def fa():\\n    x = 5\\n    print locals()\\n    #globals()\\n    \\nprint fa\\nfa()\\n#locals()', u'def fa():\\n    x = 5\\n    print locals()\\n    print globals()\\n    \\nprint fa\\nfa()\\n#locals()'], '__builtin__': <module '__builtin__' (built-in)>, '_2': {...}, 'fa': <function fa at 0x1022d6cf8>, '__name__': '__main__', '___': '', '_': {...}, '_sh': <module 'IPython.core.shadowns' from '/Users/panand/anaconda/python.app/Contents/lib/python2.7/site-packages/IPython/core/shadowns.pyc'>, '_i11': u'def fa():\\n    x = 5\\n    print locals()\\n    print globals()\\n    \\nprint fa\\nfa()\\n#locals()', '_i9': u'def fa():\\n    x = 5\\n    return\\n    print locals()\\n    #globals()\\n    \\nprint fa\\nfa()\\n#locals()', '_i8': u'def fa():\\n    x = 5\\n    return\\n    print locals()\\n    #globals()\\n    \\nprint fa\\nfa()\\n#locals()', '_i7': u'def fa():\\n    x = 5\\n    return\\n    print locals()\\n    #globals()\\n    \\nprint fa\\nfa()\\n#locals()', '_i6': u'def fa():\\n    x = 5\\n    return\\n    print locals()\\n    #globals()\\n    \\nprint fa\\n#locals()', '_i5': u'def fa():\\n    x = 5\\n    return\\n    print locals()\\n    #globals()\\n    \\nprint fa\\n#locals()', '_i4': u'def fa():\\n    x = 5\\n    return\\n    locals()\\n    #globals()\\n    \\nprint fa\\n#locals()', '_i3': u'def fa():\\n    x = 5\\n    return\\n    locals()\\n    #globals()\\n    \\nprint fa\\nlocals()', '_i2': u'def fa():\\n    x = 5\\n    return\\n    locals()\\n    globals()\\n    \\nprint fa\\nlocals()', '_i1': u'def fa():\\n    return\\n\\nprint fa', '_iii': u'def fa():\\n    x = 5\\n    return\\n    print locals()\\n    #globals()\\n    \\nprint fa\\nfa()\\n#locals()', '_i10': u'def fa():\\n    x = 5\\n    print locals()\\n    #globals()\\n    \\nprint fa\\nfa()\\n#locals()', 'exit': <IPython.core.autocall.ZMQExitAutocall object at 0x1022bfa90>, 'get_ipython': <bound method ZMQInteractiveShell.get_ipython of <IPython.kernel.zmq.zmqshell.ZMQInteractiveShell object at 0x102235850>>, '_i': u'def fa():\\n    x = 5\\n    print locals()\\n    #globals()\\n    \\nprint fa\\nfa()\\n#locals()', 'In': ['', u'def fa():\\n    return\\n\\nprint fa', u'def fa():\\n    x = 5\\n    return\\n    locals()\\n    globals()\\n    \\nprint fa\\nlocals()', u'def fa():\\n    x = 5\\n    return\\n    locals()\\n    #globals()\\n    \\nprint fa\\nlocals()', u'def fa():\\n    x = 5\\n    return\\n    locals()\\n    #globals()\\n    \\nprint fa\\n#locals()', u'def fa():\\n    x = 5\\n    return\\n    print locals()\\n    #globals()\\n    \\nprint fa\\n#locals()', u'def fa():\\n    x = 5\\n    return\\n    print locals()\\n    #globals()\\n    \\nprint fa\\n#locals()', u'def fa():\\n    x = 5\\n    return\\n    print locals()\\n    #globals()\\n    \\nprint fa\\nfa()\\n#locals()', u'def fa():\\n    x = 5\\n    return\\n    print locals()\\n    #globals()\\n    \\nprint fa\\nfa()\\n#locals()', u'def fa():\\n    x = 5\\n    return\\n    print locals()\\n    #globals()\\n    \\nprint fa\\nfa()\\n#locals()', u'def fa():\\n    x = 5\\n    print locals()\\n    #globals()\\n    \\nprint fa\\nfa()\\n#locals()', u'def fa():\\n    x = 5\\n    print locals()\\n    print globals()\\n    \\nprint fa\\nfa()\\n#locals()'], '_ii': u'def fa():\\n    x = 5\\n    return\\n    print locals()\\n    #globals()\\n    \\nprint fa\\nfa()\\n#locals()', '_oh': {2: {...}, 3: {...}}, 'Out': {2: {...}, 3: {...}}}\n"
       ]
      }
     ],
     "prompt_number": 11
    },
    {
     "cell_type": "code",
     "collapsed": false,
     "input": [
      "#At the global level, globals and locals are the same dict\n",
      "globals() == locals()\n",
      "\n",
      "#what a module has in it is accessible via __dict__\n",
      "import datetime\n",
      "print datetime.__dict__\n",
      "print\n",
      "print dir(datetime)"
     ],
     "language": "python",
     "metadata": {},
     "outputs": [
      {
       "output_type": "stream",
       "stream": "stdout",
       "text": [
        "{'timedelta': <type 'datetime.timedelta'>, 'MAXYEAR': 9999, '__file__': '/Users/panand/anaconda/python.app/Contents/lib/python2.7/lib-dynload/datetime.so', '__package__': None, 'date': <type 'datetime.date'>, 'datetime_CAPI': <capsule object \"datetime.datetime_CAPI\" at 0x100574750>, 'tzinfo': <type 'datetime.tzinfo'>, 'time': <type 'datetime.time'>, 'MINYEAR': 1, '__name__': 'datetime', 'datetime': <type 'datetime.datetime'>, '__doc__': 'Fast implementation of the datetime type.'}\n",
        "\n",
        "['MAXYEAR', 'MINYEAR', '__doc__', '__file__', '__name__', '__package__', 'date', 'datetime', 'datetime_CAPI', 'time', 'timedelta', 'tzinfo']\n"
       ]
      }
     ],
     "prompt_number": 6
    },
    {
     "cell_type": "code",
     "collapsed": false,
     "input": [
      "#built in things (that are that the startup of Python) live in the module `__builtin__`\n",
      "print sorted(__builtin__.__dict__.keys())"
     ],
     "language": "python",
     "metadata": {},
     "outputs": [
      {
       "output_type": "stream",
       "stream": "stdout",
       "text": [
        "['ArithmeticError', 'AssertionError', 'AttributeError', 'BaseException', 'BufferError', 'BytesWarning', 'DeprecationWarning', 'EOFError', 'Ellipsis', 'EnvironmentError', 'Exception', 'False', 'FloatingPointError', 'FutureWarning', 'GeneratorExit', 'IOError', 'ImportError', 'ImportWarning', 'IndentationError', 'IndexError', 'KeyError', 'KeyboardInterrupt', 'LookupError', 'MemoryError', 'NameError', 'None', 'NotImplemented', 'NotImplementedError', 'OSError', 'OverflowError', 'PendingDeprecationWarning', 'ReferenceError', 'RuntimeError', 'RuntimeWarning', 'StandardError', 'StopIteration', 'SyntaxError', 'SyntaxWarning', 'SystemError', 'SystemExit', 'TabError', 'True', 'TypeError', 'UnboundLocalError', 'UnicodeDecodeError', 'UnicodeEncodeError', 'UnicodeError', 'UnicodeTranslateError', 'UnicodeWarning', 'UserWarning', 'ValueError', 'Warning', 'ZeroDivisionError', '__IPYTHON__', '__IPYTHON__active', '__debug__', '__doc__', '__import__', '__name__', '__package__', 'abs', 'all', 'any', 'apply', 'basestring', 'bin', 'bool', 'buffer', 'bytearray', 'bytes', 'callable', 'chr', 'classmethod', 'cmp', 'coerce', 'compile', 'complex', 'copyright', 'credits', 'delattr', 'dict', 'dir', 'divmod', 'dreload', 'enumerate', 'eval', 'execfile', 'file', 'filter', 'float', 'format', 'frozenset', 'get_ipython', 'getattr', 'globals', 'hasattr', 'hash', 'help', 'hex', 'id', 'input', 'int', 'intern', 'isinstance', 'issubclass', 'iter', 'len', 'license', 'list', 'locals', 'long', 'map', 'max', 'memoryview', 'min', 'next', 'object', 'oct', 'open', 'ord', 'pow', 'print', 'property', 'range', 'raw_input', 'reduce', 'reload', 'repr', 'reversed', 'round', 'set', 'setattr', 'slice', 'sorted', 'staticmethod', 'str', 'sum', 'super', 'tuple', 'type', 'unichr', 'unicode', 'vars', 'xrange', 'zip']\n"
       ]
      }
     ],
     "prompt_number": 9
    },
    {
     "cell_type": "code",
     "collapsed": false,
     "input": [
      "dir(__builtin__)"
     ],
     "language": "python",
     "metadata": {},
     "outputs": [
      {
       "metadata": {},
       "output_type": "pyout",
       "prompt_number": 11,
       "text": [
        "['ArithmeticError',\n",
        " 'AssertionError',\n",
        " 'AttributeError',\n",
        " 'BaseException',\n",
        " 'BufferError',\n",
        " 'BytesWarning',\n",
        " 'DeprecationWarning',\n",
        " 'EOFError',\n",
        " 'Ellipsis',\n",
        " 'EnvironmentError',\n",
        " 'Exception',\n",
        " 'False',\n",
        " 'FloatingPointError',\n",
        " 'FutureWarning',\n",
        " 'GeneratorExit',\n",
        " 'IOError',\n",
        " 'ImportError',\n",
        " 'ImportWarning',\n",
        " 'IndentationError',\n",
        " 'IndexError',\n",
        " 'KeyError',\n",
        " 'KeyboardInterrupt',\n",
        " 'LookupError',\n",
        " 'MemoryError',\n",
        " 'NameError',\n",
        " 'None',\n",
        " 'NotImplemented',\n",
        " 'NotImplementedError',\n",
        " 'OSError',\n",
        " 'OverflowError',\n",
        " 'PendingDeprecationWarning',\n",
        " 'ReferenceError',\n",
        " 'RuntimeError',\n",
        " 'RuntimeWarning',\n",
        " 'StandardError',\n",
        " 'StopIteration',\n",
        " 'SyntaxError',\n",
        " 'SyntaxWarning',\n",
        " 'SystemError',\n",
        " 'SystemExit',\n",
        " 'TabError',\n",
        " 'True',\n",
        " 'TypeError',\n",
        " 'UnboundLocalError',\n",
        " 'UnicodeDecodeError',\n",
        " 'UnicodeEncodeError',\n",
        " 'UnicodeError',\n",
        " 'UnicodeTranslateError',\n",
        " 'UnicodeWarning',\n",
        " 'UserWarning',\n",
        " 'ValueError',\n",
        " 'Warning',\n",
        " 'ZeroDivisionError',\n",
        " '__IPYTHON__',\n",
        " '__IPYTHON__active',\n",
        " '__debug__',\n",
        " '__doc__',\n",
        " '__import__',\n",
        " '__name__',\n",
        " '__package__',\n",
        " 'abs',\n",
        " 'all',\n",
        " 'any',\n",
        " 'apply',\n",
        " 'basestring',\n",
        " 'bin',\n",
        " 'bool',\n",
        " 'buffer',\n",
        " 'bytearray',\n",
        " 'bytes',\n",
        " 'callable',\n",
        " 'chr',\n",
        " 'classmethod',\n",
        " 'cmp',\n",
        " 'coerce',\n",
        " 'compile',\n",
        " 'complex',\n",
        " 'copyright',\n",
        " 'credits',\n",
        " 'delattr',\n",
        " 'dict',\n",
        " 'dir',\n",
        " 'divmod',\n",
        " 'dreload',\n",
        " 'enumerate',\n",
        " 'eval',\n",
        " 'execfile',\n",
        " 'file',\n",
        " 'filter',\n",
        " 'float',\n",
        " 'format',\n",
        " 'frozenset',\n",
        " 'get_ipython',\n",
        " 'getattr',\n",
        " 'globals',\n",
        " 'hasattr',\n",
        " 'hash',\n",
        " 'help',\n",
        " 'hex',\n",
        " 'id',\n",
        " 'input',\n",
        " 'int',\n",
        " 'intern',\n",
        " 'isinstance',\n",
        " 'issubclass',\n",
        " 'iter',\n",
        " 'len',\n",
        " 'license',\n",
        " 'list',\n",
        " 'locals',\n",
        " 'long',\n",
        " 'map',\n",
        " 'max',\n",
        " 'memoryview',\n",
        " 'min',\n",
        " 'next',\n",
        " 'object',\n",
        " 'oct',\n",
        " 'open',\n",
        " 'ord',\n",
        " 'pow',\n",
        " 'print',\n",
        " 'property',\n",
        " 'range',\n",
        " 'raw_input',\n",
        " 'reduce',\n",
        " 'reload',\n",
        " 'repr',\n",
        " 'reversed',\n",
        " 'round',\n",
        " 'set',\n",
        " 'setattr',\n",
        " 'slice',\n",
        " 'sorted',\n",
        " 'staticmethod',\n",
        " 'str',\n",
        " 'sum',\n",
        " 'super',\n",
        " 'tuple',\n",
        " 'type',\n",
        " 'unichr',\n",
        " 'unicode',\n",
        " 'vars',\n",
        " 'xrange',\n",
        " 'zip']"
       ]
      }
     ],
     "prompt_number": 11
    },
    {
     "cell_type": "markdown",
     "metadata": {},
     "source": [
      "Classes have instances: particular manifestations of the type\n",
      "\n",
      "* one declares an instance in function notation"
     ]
    },
    {
     "cell_type": "code",
     "collapsed": false,
     "input": [
      "if \"3\" == 3:\n",
      "    pass"
     ],
     "language": "python",
     "metadata": {},
     "outputs": [
      {
       "ename": "SyntaxError",
       "evalue": "'break' outside loop (<ipython-input-20-9dbb14a900e9>, line 2)",
       "output_type": "pyerr",
       "traceback": [
        "\u001b[0;36m  File \u001b[0;32m\"<ipython-input-20-9dbb14a900e9>\"\u001b[0;36m, line \u001b[0;32m2\u001b[0m\n\u001b[0;31m    break\u001b[0m\n\u001b[0;31mSyntaxError\u001b[0m\u001b[0;31m:\u001b[0m 'break' outside loop\n"
       ]
      }
     ],
     "prompt_number": 20
    },
    {
     "cell_type": "code",
     "collapsed": false,
     "input": [
      "class NewClass(object):\n",
      "    \"\"\"Hello\"\"\"\n",
      "    myInty = 5\n",
      "\n",
      "myC = NewClass()"
     ],
     "language": "python",
     "metadata": {},
     "outputs": [],
     "prompt_number": 29
    },
    {
     "cell_type": "code",
     "collapsed": false,
     "input": [
      "myC.x = 1\n",
      "print myC.x\n",
      "print myC.myInty\n",
      "print myInty"
     ],
     "language": "python",
     "metadata": {},
     "outputs": [
      {
       "ename": "NameError",
       "evalue": "name 'myInty' is not defined",
       "output_type": "pyerr",
       "traceback": [
        "\u001b[0;31m---------------------------------------------------------------------------\u001b[0m\n\u001b[0;31mNameError\u001b[0m                                 Traceback (most recent call last)",
        "\u001b[0;32m<ipython-input-30-f1963b158ef3>\u001b[0m in \u001b[0;36m<module>\u001b[0;34m()\u001b[0m\n\u001b[1;32m      2\u001b[0m \u001b[0;32mprint\u001b[0m \u001b[0mmyC\u001b[0m\u001b[0;34m.\u001b[0m\u001b[0mx\u001b[0m\u001b[0;34m\u001b[0m\u001b[0m\n\u001b[1;32m      3\u001b[0m \u001b[0;32mprint\u001b[0m \u001b[0mmyC\u001b[0m\u001b[0;34m.\u001b[0m\u001b[0mmyInty\u001b[0m\u001b[0;34m\u001b[0m\u001b[0m\n\u001b[0;32m----> 4\u001b[0;31m \u001b[0;32mprint\u001b[0m \u001b[0mmyInty\u001b[0m\u001b[0;34m\u001b[0m\u001b[0m\n\u001b[0m",
        "\u001b[0;31mNameError\u001b[0m: name 'myInty' is not defined"
       ]
      },
      {
       "output_type": "stream",
       "stream": "stdout",
       "text": [
        "1\n",
        "5\n"
       ]
      }
     ],
     "prompt_number": 30
    },
    {
     "cell_type": "markdown",
     "metadata": {},
     "source": [
      "Classes have attributes\n",
      "\n",
      "* accessed via period/dot\n",
      "\n",
      "* these are dynamic: you can keep adding these to your heart's content"
     ]
    },
    {
     "cell_type": "code",
     "collapsed": false,
     "input": [
      "print myC.myInty\n",
      "myC.listy = [1,2,3, myC.myInty]\n",
      "print myC.listy"
     ],
     "language": "python",
     "metadata": {},
     "outputs": [
      {
       "output_type": "stream",
       "stream": "stdout",
       "text": [
        "5\n",
        "[1, 2, 3, 5]\n"
       ]
      }
     ],
     "prompt_number": 32
    },
    {
     "cell_type": "markdown",
     "metadata": {},
     "source": [
      "Classes have methods\n",
      "\n",
      "* accessed via period or dot\n",
      "\n",
      "* when writing, have a special first argment, `self`"
     ]
    },
    {
     "cell_type": "code",
     "collapsed": false,
     "input": [
      "class NewClass2(object):\n",
      "        def functiony(self, x):\n",
      "            print x\n"
     ],
     "language": "python",
     "metadata": {},
     "outputs": [],
     "prompt_number": 33
    },
    {
     "cell_type": "code",
     "collapsed": false,
     "input": [
      "myC2 = NewClass2()\n",
      "myC2.functiony(\"Hello darling\")\n",
      "st = \"Hello daring\"\n",
      "st.split(\" \")"
     ],
     "language": "python",
     "metadata": {},
     "outputs": [
      {
       "output_type": "stream",
       "stream": "stdout",
       "text": [
        "Hello darling\n"
       ]
      }
     ],
     "prompt_number": 35
    },
    {
     "cell_type": "markdown",
     "metadata": {},
     "source": [
      "Classes have parents\n",
      "\n",
      "* specified in the parentheses"
     ]
    },
    {
     "cell_type": "code",
     "collapsed": false,
     "input": [
      "class NewString(str):\n",
      "    def reverse(self):\n",
      "        li = list(self)\n",
      "        li.reverse()\n",
      "        return ''.join(li)\n",
      "\n",
      "string = \"Hello hello\"\n",
      "newString = NewString(\"Hello hello\")"
     ],
     "language": "python",
     "metadata": {},
     "outputs": [],
     "prompt_number": 21
    },
    {
     "cell_type": "code",
     "collapsed": false,
     "input": [
      "newString.reverse()"
     ],
     "language": "python",
     "metadata": {},
     "outputs": [
      {
       "metadata": {},
       "output_type": "pyout",
       "prompt_number": 22,
       "text": [
        "'olleh olleH'"
       ]
      }
     ],
     "prompt_number": 22
    },
    {
     "cell_type": "code",
     "collapsed": false,
     "input": [
      "string.reverse()"
     ],
     "language": "python",
     "metadata": {},
     "outputs": [
      {
       "ename": "AttributeError",
       "evalue": "'str' object has no attribute 'reverse'",
       "output_type": "pyerr",
       "traceback": [
        "\u001b[0;31m---------------------------------------------------------------------------\u001b[0m\n\u001b[0;31mAttributeError\u001b[0m                            Traceback (most recent call last)",
        "\u001b[0;32m<ipython-input-23-8d2a284919af>\u001b[0m in \u001b[0;36m<module>\u001b[0;34m()\u001b[0m\n\u001b[0;32m----> 1\u001b[0;31m \u001b[0mstring\u001b[0m\u001b[0;34m.\u001b[0m\u001b[0mreverse\u001b[0m\u001b[0;34m(\u001b[0m\u001b[0;34m)\u001b[0m\u001b[0;34m\u001b[0m\u001b[0m\n\u001b[0m",
        "\u001b[0;31mAttributeError\u001b[0m: 'str' object has no attribute 'reverse'"
       ]
      }
     ],
     "prompt_number": 23
    },
    {
     "cell_type": "markdown",
     "metadata": {},
     "source": [
      "Classes have [special methods](http://docs.python.org/2/reference/datamodel.html#special-method-names): init, len, str, cmp\n",
      "\n",
      "see also: [here](http://www.itmaybeahack.com/book/python-2.6/html/p03/p03c04_extending.html) and [here](http://www.rafekettler.com/magicmethods.html)"
     ]
    },
    {
     "cell_type": "code",
     "collapsed": false,
     "input": [
      "print dir(myC)"
     ],
     "language": "python",
     "metadata": {},
     "outputs": [
      {
       "output_type": "stream",
       "stream": "stdout",
       "text": [
        "['__class__', '__delattr__', '__dict__', '__doc__', '__format__', '__getattribute__', '__hash__', '__init__', '__module__', '__new__', '__reduce__', '__reduce_ex__', '__repr__', '__setattr__', '__sizeof__', '__str__', '__subclasshook__', '__weakref__', 'listy', 'myInty', 'x']\n"
       ]
      }
     ],
     "prompt_number": 37
    },
    {
     "cell_type": "code",
     "collapsed": false,
     "input": [
      "class Word(object):\n",
      "    def __init__(self, pos, defn, word):\n",
      "        self.pos = pos\n",
      "        self.defn = defn\n",
      "        self.word = word\n",
      "    def __len__(self):\n",
      "        return len(self.word)\n",
      "    def __str__(self):\n",
      "        return \"word: \" + self.word +  \"\\npos: \" + self.pos + \"\\ndefinition: \" + self.defn\n",
      "w = Word(\"NN\", \"something something\", \"something\")"
     ],
     "language": "python",
     "metadata": {},
     "outputs": [],
     "prompt_number": 58
    },
    {
     "cell_type": "code",
     "collapsed": false,
     "input": [
      "print len(w)\n",
      "print w.pos + \" \" + w.defn"
     ],
     "language": "python",
     "metadata": {},
     "outputs": [
      {
       "output_type": "stream",
       "stream": "stdout",
       "text": [
        "9\n",
        "NN something something\n"
       ]
      }
     ],
     "prompt_number": 61
    },
    {
     "cell_type": "code",
     "collapsed": false,
     "input": [
      "xx = 5"
     ],
     "language": "python",
     "metadata": {},
     "outputs": [],
     "prompt_number": 45
    },
    {
     "cell_type": "code",
     "collapsed": false,
     "input": [
      "print xx , \"tr\""
     ],
     "language": "python",
     "metadata": {},
     "outputs": [
      {
       "output_type": "stream",
       "stream": "stdout",
       "text": [
        "5 tr\n"
       ]
      }
     ],
     "prompt_number": 49
    },
    {
     "cell_type": "code",
     "collapsed": false,
     "input": [
      "dir(xx)"
     ],
     "language": "python",
     "metadata": {},
     "outputs": [
      {
       "metadata": {},
       "output_type": "pyout",
       "prompt_number": 47,
       "text": [
        "['__abs__',\n",
        " '__add__',\n",
        " '__and__',\n",
        " '__class__',\n",
        " '__cmp__',\n",
        " '__coerce__',\n",
        " '__delattr__',\n",
        " '__div__',\n",
        " '__divmod__',\n",
        " '__doc__',\n",
        " '__float__',\n",
        " '__floordiv__',\n",
        " '__format__',\n",
        " '__getattribute__',\n",
        " '__getnewargs__',\n",
        " '__hash__',\n",
        " '__hex__',\n",
        " '__index__',\n",
        " '__init__',\n",
        " '__int__',\n",
        " '__invert__',\n",
        " '__long__',\n",
        " '__lshift__',\n",
        " '__mod__',\n",
        " '__mul__',\n",
        " '__neg__',\n",
        " '__new__',\n",
        " '__nonzero__',\n",
        " '__oct__',\n",
        " '__or__',\n",
        " '__pos__',\n",
        " '__pow__',\n",
        " '__radd__',\n",
        " '__rand__',\n",
        " '__rdiv__',\n",
        " '__rdivmod__',\n",
        " '__reduce__',\n",
        " '__reduce_ex__',\n",
        " '__repr__',\n",
        " '__rfloordiv__',\n",
        " '__rlshift__',\n",
        " '__rmod__',\n",
        " '__rmul__',\n",
        " '__ror__',\n",
        " '__rpow__',\n",
        " '__rrshift__',\n",
        " '__rshift__',\n",
        " '__rsub__',\n",
        " '__rtruediv__',\n",
        " '__rxor__',\n",
        " '__setattr__',\n",
        " '__sizeof__',\n",
        " '__str__',\n",
        " '__sub__',\n",
        " '__subclasshook__',\n",
        " '__truediv__',\n",
        " '__trunc__',\n",
        " '__xor__',\n",
        " 'bit_length',\n",
        " 'conjugate',\n",
        " 'denominator',\n",
        " 'imag',\n",
        " 'numerator',\n",
        " 'real']"
       ]
      }
     ],
     "prompt_number": 47
    },
    {
     "cell_type": "code",
     "collapsed": false,
     "input": [],
     "language": "python",
     "metadata": {},
     "outputs": []
    }
   ],
   "metadata": {}
  }
 ]
}