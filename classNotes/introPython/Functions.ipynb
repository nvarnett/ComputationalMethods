{
 "metadata": {
  "name": ""
 },
 "nbformat": 3,
 "nbformat_minor": 0,
 "worksheets": [
  {
   "cells": [
    {
     "cell_type": "heading",
     "level": 1,
     "metadata": {},
     "source": [
      "Functions: A Precis"
     ]
    },
    {
     "cell_type": "markdown",
     "metadata": {},
     "source": [
      "* Operationally, it's a bit of code that you want to separate:\n",
      "    - factoring out something that is being repeated several times throughout the program\n",
      "    - makng your code easier to read by moving complex stuff to some other place\n",
      "* Functions have:\n",
      "    - a unique name\n",
      "    - a definition (or *declaration*), as below\n",
      "    - arguments (some of these can be optional)\n",
      "    - **one** return value\n"
     ]
    },
    {
     "cell_type": "code",
     "collapsed": false,
     "input": [
      "def f1():\n",
      "    \"\"\"This function is named f1;\n",
      "    it has no arguments and a return value\"\"\"\n",
      "    return 42\n",
      "\n",
      "def f2(arg1, arg2, arg3=42):\n",
      "    \"\"\"This function is named f2;\n",
      "    it has three arguments, two obligatory and one optional\n",
      "    if the optional one isn't provided, it will be assumed to be 42\"\"\"\n",
      "\n",
      "    return arg1*arg2+arg3"
     ],
     "language": "python",
     "metadata": {},
     "outputs": []
    },
    {
     "cell_type": "markdown",
     "metadata": {},
     "source": [
      "* Functions can be called in three ways:\n",
      "    - giving the arguments in order of appearance in the function definition\n",
      "    - giving the arguments with argName=value (called **keyword arguments**)\n",
      "    - mixing and matching\n",
      "        -if you mix and match, the order arguments must come first and must be in order"
     ]
    },
    {
     "cell_type": "code",
     "collapsed": false,
     "input": [
      "print f1() #42\n",
      "print f1(3) #error"
     ],
     "language": "python",
     "metadata": {},
     "outputs": []
    },
    {
     "cell_type": "code",
     "collapsed": false,
     "input": [
      "print f2(1,3,5) # 8\n",
      "print f2(1,3, 42) #45\n",
      "print f2(1,3) # == f2(1,3,42) == 45\n",
      "print f2(arg2=4, arg1=0, arg3=12) # == f2(0*4+12) == 12"
     ],
     "language": "python",
     "metadata": {},
     "outputs": []
    },
    {
     "cell_type": "code",
     "collapsed": false,
     "input": [
      "print f2(arg2=4, 0, arg3=12) #error, ordered arguments first"
     ],
     "language": "python",
     "metadata": {},
     "outputs": []
    },
    {
     "cell_type": "heading",
     "level": 1,
     "metadata": {},
     "source": [
      "Scope"
     ]
    },
    {
     "cell_type": "markdown",
     "metadata": {},
     "source": [
      "* Functions must be  defined before they can be used\n",
      "\n",
      "* The central concept to understand about functions is **scope**, which is all about a variable's\n",
      "    - lifespan: when the variable is created and when it is destroyed\n",
      "    - visibility: when you can \"see\" the variable\n",
      "\n",
      "* When you use a name, the job of the interpreter is to figure out what entity in memory the name refers to\n",
      "    - scope allows you to use the same name to refer to different entities, but not at the same time\n",
      "    - when you have two identical names, one entity is picked out by the scope rules, and the other is *shadowed* or *masked* (i.e., not visible)"
     ]
    },
    {
     "cell_type": "markdown",
     "metadata": {},
     "source": [
      "* Two kinds of variables\n",
      "    - function variables: assigned inside a function (can see this in the `locals()` dict)\n",
      "    - global variables: assigned at the module level (not inside a function) (can see this in the `globals()` dict)"
     ]
    },
    {
     "cell_type": "code",
     "collapsed": true,
     "input": [
      "y = 10       # y is a global variable\n",
      "\n",
      "def ignoreIPythonJunk(d):\n",
      "    items = d.items()\n",
      "\n",
      "    def filt(x):\n",
      "        key = x[0]\n",
      "        if '_' in key:\n",
      "            return False\n",
      "        if key in [\"quit\", \"help\", \"exit\", \"In\", \"Out\"]:\n",
      "            return False\n",
      "    \n",
      "        return True\n",
      "    \n",
      "    return dict(filter(filt, items))\n",
      "\n",
      "def fn():\n",
      "    x = 12   #x is a function variable\n",
      "    print locals()\n",
      "#    print dict(filter(lambda x: '_' not in x[0] and 'In' not in x[0], globals().items()))\n",
      "    print ignoreIPythonJunk(globals())\n",
      "    print x\n",
      "    print z\n",
      "\n",
      "# fn()       # uncomment this to see a problem...\n",
      "z = 13       # z is a global variable\n",
      "fn()"
     ],
     "language": "python",
     "metadata": {},
     "outputs": [
      {
       "output_type": "stream",
       "stream": "stdout",
       "text": [
        "{'x': 12}\n",
        "{'outerF': <function outerF at 0x108507938>, 'ignoreIPythonJunk': <function ignoreIPythonJunk at 0x1085078c0>, 'yy': 10, 'xx': 3, 'y': 10, 'z': 13, 'fn': <function fn at 0x108507758>}\n",
        "12\n",
        "13\n"
       ]
      }
     ],
     "prompt_number": 34
    },
    {
     "cell_type": "markdown",
     "metadata": {},
     "source": [
      "* Variables live and die in the function or module where they are first assigned\n",
      "     - Variable are born when they are first assigned.\n",
      "     - Variables die when the function/module they live in ends.\n",
      "* Living variables are subject to scope constraints\n",
      "     - All function variables become invisible when a new function called.\n",
      "     - All global variables become invisible when a function variable **with the same name** is used\n",
      "     "
     ]
    },
    {
     "cell_type": "code",
     "collapsed": false,
     "input": [
      "yy = 10\n",
      "\n",
      "def fn():\n",
      "    global yy\n",
      "    yy = 13      # this is a new local variable\n",
      "    print ignoreIPythonJunk(globals()) \n",
      "    print locals()\n",
      "\n",
      "fn()"
     ],
     "language": "python",
     "metadata": {},
     "outputs": [
      {
       "output_type": "stream",
       "stream": "stdout",
       "text": [
        "{'outerF': <function outerF at 0x108507938>, 'ignoreIPythonJunk': <function ignoreIPythonJunk at 0x1085078c0>, 'yy': 13, 'xx': 3, 'y': 10, 'z': 13, 'fn': <function fn at 0x108507758>}\n",
        "{}\n"
       ]
      }
     ],
     "prompt_number": 36
    },
    {
     "cell_type": "code",
     "collapsed": false,
     "input": [
      "x = 1\n",
      "\n",
      "def fn():\n",
      "    global x\n",
      "    x = 12\n",
      "\n",
      "fn()\n",
      "print x\n",
      "\n"
     ],
     "language": "python",
     "metadata": {},
     "outputs": [
      {
       "output_type": "stream",
       "stream": "stdout",
       "text": [
        "12\n"
       ]
      }
     ],
     "prompt_number": 39
    },
    {
     "cell_type": "markdown",
     "metadata": {},
     "source": [
      "     \n",
      "* When a variable is accessed (used) in some code, Python looks for the referent in the following order:\n",
      "    1. the immediate function context (locals)\n",
      "    2. any function definition containing the function context (the closure)\n",
      "    3. the module (globals)\n",
      "    4. the interpreter (built ins -- what you start with)\n",
      "\n",
      "*To skip the lower levels, use `global` to access the global list"
     ]
    },
    {
     "cell_type": "code",
     "collapsed": false,
     "input": [
      "xx = 3          #A\n",
      "def outerF():\n",
      "    xx = 12     #B\n",
      "    def innerF():\n",
      "        print xx #will print B\n",
      "    innerF()\n",
      "    \n",
      "    def globalF():\n",
      "        global xx\n",
      "        print xx # will print A\n",
      "    \n",
      "    globalF()\n",
      "    \n",
      "outerF()"
     ],
     "language": "python",
     "metadata": {},
     "outputs": [
      {
       "output_type": "stream",
       "stream": "stdout",
       "text": [
        "12\n",
        "3\n"
       ]
      }
     ],
     "prompt_number": 32
    },
    {
     "cell_type": "markdown",
     "metadata": {},
     "source": [
      "* One small, terrifying wrinkle: if you assign a variable in a function without using global, it will *automatically* assume you mean that locally:"
     ]
    },
    {
     "cell_type": "code",
     "collapsed": false,
     "input": [
      "xx = 3          #A\n",
      "def outerF():\n",
      "    xx = 12     #B\n",
      "    def innerF():\n",
      "        xx = 7  # C \n",
      "        # now there are three xx's!!!\n",
      "        print xx #will print C\n",
      "    innerF()\n",
      "    \n",
      "    def globalF():\n",
      "        print xx\n",
      "        xx += 1  # will trigger an error, because we are now printing something local before we have assigned it\n",
      "    \n",
      "    globalF()\n",
      "    \n",
      "outerF()"
     ],
     "language": "python",
     "metadata": {},
     "outputs": [
      {
       "ename": "UnboundLocalError",
       "evalue": "local variable 'xx' referenced before assignment",
       "output_type": "pyerr",
       "traceback": [
        "\u001b[0;31m---------------------------------------------------------------------------\u001b[0m\n\u001b[0;31mUnboundLocalError\u001b[0m                         Traceback (most recent call last)",
        "\u001b[0;32m<ipython-input-33-d1d8c86755f5>\u001b[0m in \u001b[0;36m<module>\u001b[0;34m()\u001b[0m\n\u001b[1;32m     14\u001b[0m     \u001b[0mglobalF\u001b[0m\u001b[0;34m(\u001b[0m\u001b[0;34m)\u001b[0m\u001b[0;34m\u001b[0m\u001b[0m\n\u001b[1;32m     15\u001b[0m \u001b[0;34m\u001b[0m\u001b[0m\n\u001b[0;32m---> 16\u001b[0;31m \u001b[0mouterF\u001b[0m\u001b[0;34m(\u001b[0m\u001b[0;34m)\u001b[0m\u001b[0;34m\u001b[0m\u001b[0m\n\u001b[0m",
        "\u001b[0;32m<ipython-input-33-d1d8c86755f5>\u001b[0m in \u001b[0;36mouterF\u001b[0;34m()\u001b[0m\n\u001b[1;32m     12\u001b[0m         \u001b[0mxx\u001b[0m \u001b[0;34m+=\u001b[0m \u001b[0;36m1\u001b[0m  \u001b[0;31m# will trigger an error\u001b[0m\u001b[0;34m\u001b[0m\u001b[0m\n\u001b[1;32m     13\u001b[0m \u001b[0;34m\u001b[0m\u001b[0m\n\u001b[0;32m---> 14\u001b[0;31m     \u001b[0mglobalF\u001b[0m\u001b[0;34m(\u001b[0m\u001b[0;34m)\u001b[0m\u001b[0;34m\u001b[0m\u001b[0m\n\u001b[0m\u001b[1;32m     15\u001b[0m \u001b[0;34m\u001b[0m\u001b[0m\n\u001b[1;32m     16\u001b[0m \u001b[0mouterF\u001b[0m\u001b[0;34m(\u001b[0m\u001b[0;34m)\u001b[0m\u001b[0;34m\u001b[0m\u001b[0m\n",
        "\u001b[0;32m<ipython-input-33-d1d8c86755f5>\u001b[0m in \u001b[0;36mglobalF\u001b[0;34m()\u001b[0m\n\u001b[1;32m      9\u001b[0m \u001b[0;34m\u001b[0m\u001b[0m\n\u001b[1;32m     10\u001b[0m     \u001b[0;32mdef\u001b[0m \u001b[0mglobalF\u001b[0m\u001b[0;34m(\u001b[0m\u001b[0;34m)\u001b[0m\u001b[0;34m:\u001b[0m\u001b[0;34m\u001b[0m\u001b[0m\n\u001b[0;32m---> 11\u001b[0;31m         \u001b[0;32mprint\u001b[0m \u001b[0mxx\u001b[0m\u001b[0;34m\u001b[0m\u001b[0m\n\u001b[0m\u001b[1;32m     12\u001b[0m         \u001b[0mxx\u001b[0m \u001b[0;34m+=\u001b[0m \u001b[0;36m1\u001b[0m  \u001b[0;31m# will trigger an error\u001b[0m\u001b[0;34m\u001b[0m\u001b[0m\n\u001b[1;32m     13\u001b[0m \u001b[0;34m\u001b[0m\u001b[0m\n",
        "\u001b[0;31mUnboundLocalError\u001b[0m: local variable 'xx' referenced before assignment"
       ]
      },
      {
       "output_type": "stream",
       "stream": "stdout",
       "text": [
        "7\n"
       ]
      }
     ],
     "prompt_number": 33
    },
    {
     "cell_type": "heading",
     "level": 2,
     "metadata": {},
     "source": [
      "How are functions implemented?"
     ]
    },
    {
     "cell_type": "markdown",
     "metadata": {},
     "source": [
      "* A function is a bit of code that is parceled into a separate memory location and which returns a value\n",
      "    - subroutines vs. functions\n",
      "        * subroutine: just a little bit of code on the side\n",
      "        * function: returns a value\n",
      "        * functions in Python always return something\n",
      "            - either there is an explicit `return` statement\n",
      "            - or you \"fall off the edge\" of the code, and return `None`"
     ]
    },
    {
     "cell_type": "code",
     "collapsed": false,
     "input": [
      "def returning(t):\n",
      "    x= t+3\n",
      "    return x\n",
      "\n",
      "def notReturning(t):\n",
      "    x = t+3\n",
      "    \n",
      "import dis\n",
      "\n",
      "dis.dis(returning)\n",
      "print\n",
      "dis.dis(notReturning)"
     ],
     "language": "python",
     "metadata": {},
     "outputs": [
      {
       "output_type": "stream",
       "stream": "stdout",
       "text": [
        "  2           0 LOAD_FAST                0 (t)\n",
        "              3 LOAD_CONST               1 (3)\n",
        "              6 BINARY_ADD          \n",
        "              7 STORE_FAST               1 (x)\n",
        "\n",
        "  3          10 LOAD_FAST                1 (x)\n",
        "             13 RETURN_VALUE        \n",
        "\n",
        "  6           0 LOAD_FAST                0 (t)\n",
        "              3 LOAD_CONST               1 (3)\n",
        "              6 BINARY_ADD          \n",
        "              7 STORE_FAST               1 (x)\n",
        "             10 LOAD_CONST               0 (None)\n",
        "             13 RETURN_VALUE        \n"
       ]
      }
     ],
     "prompt_number": 2
    },
    {
     "cell_type": "markdown",
     "metadata": {},
     "source": [
      "* Program execution is controlled by the *call stack*, a representation of the current state of the program in memory.\n",
      "    * stack grows from bottom up\n",
      "    * at the bottom is a place for global variables\n",
      "    * each section of the stack allocates memory for:\n",
      "        * arguments to that section\n",
      "        * the returned value of that section\n",
      "        * the data in use in the section (the local variables)\n",
      "* How a function is processed:\n",
      "\n",
      "<table>\n",
      "    <tr>\n",
      "    <td>\n",
      "    1. function arguments loaded on call stack </br>\n",
      "    2. return address loaded on call stack</br>\n",
      "    3. memory allocated for local variables of function</br>\n",
      "        - *stack overflow*: run out space for locals</br>\n",
      "\t4. code transfers to address of function</br>\n",
      "\t5. function is processed, locals are updated accordingly; more functions added </br>\n",
      "\t6. locals popped off (gone!)</br>\n",
      "    7. return address popped off, read, gone to.</br>\n",
      "    8. arguments popped off.</br>\n",
      "    </td><td>\n",
      "<img src=\"http://upload.wikimedia.org/wikipedia/commons/d/d3/Call_stack_layout.svg\"/></td></tr></table>"
     ]
    },
    {
     "cell_type": "heading",
     "level": 2,
     "metadata": {},
     "source": [
      "Functions and mutability\n"
     ]
    },
    {
     "cell_type": "markdown",
     "metadata": {},
     "source": [
      "* Functions can only update *mutable* data types (dicts, lists, classes) \n",
      "\n",
      "* They can't alter the contents of unmutables (strings, tuples, numbers)"
     ]
    },
    {
     "cell_type": "code",
     "collapsed": false,
     "input": [],
     "language": "python",
     "metadata": {},
     "outputs": []
    }
   ],
   "metadata": {}
  }
 ]
}