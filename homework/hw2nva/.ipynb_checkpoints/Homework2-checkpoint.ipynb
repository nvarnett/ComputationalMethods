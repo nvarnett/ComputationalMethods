{
 "metadata": {
  "name": ""
 },
 "nbformat": 3,
 "nbformat_minor": 0,
 "worksheets": [
  {
   "cells": [
    {
     "cell_type": "code",
     "collapsed": false,
     "input": [
      "#/usr/bin/env python\n",
      "# -*- coding: utf-8 -*- \n",
      "\n",
      "# The coding line above will let you use unicode symbols in your program text, as Brianna suggested.\n",
      "# Note that ipython automagically does that for you, but if you aren't using\n",
      "# it, you'll need this line."
     ],
     "language": "python",
     "metadata": {},
     "outputs": []
    },
    {
     "cell_type": "code",
     "collapsed": false,
     "input": [
      "__author__ = [\"Breanna\", \"Karl\", \"Nate\"]\n",
      "__email__ = [\"brianna.kaufman@gmail.com\", \"kadevrie@ucsc.edu\", \"nvarnett@ucsc.edu\"]\n",
      "__credits__ = []"
     ],
     "language": "python",
     "metadata": {},
     "outputs": []
    },
    {
     "cell_type": "markdown",
     "metadata": {},
     "source": [
      "<hr/>\n",
      "<center><h1>Functions and Scope</h1></center>\n",
      "<hr/>"
     ]
    },
    {
     "cell_type": "markdown",
     "metadata": {},
     "source": [
      "For the problems in this section, it is important to understand how names work in Python. As I suggested in class, there is a precise semantics for names in context that mirrors what you learn in Sem1: a name is a bit of syntax that **denotes** a referent, which is a particular block of memory.\n",
      "\n",
      "The denotation function is governed by the scope conventions from Wednesday. To understand that in more detail, please read the following two documents:\n",
      "\n",
      "* the Python official [execution model documentation](http://docs.python.org/dev/reference/executionmodel.html)\n",
      "\n",
      "* this [blog post on names](http://tech.blog.aknin.name/2010/06/05/pythons-innards-naming/), especially the first half (when it gets to assembly, you can stop, though it is probably very useful to read through that at least once); ignore the stuff about exceptions at the end\n",
      "\n",
      "I don't think you'll get everything on your first time, and please feel free to ignore any discussion of generators. Classes we will talk about on Monday; they are just object you make up yourself. Modules we'll talk about on Wednesday; they are simply python files. In particular, this ENTIRE notebook is one module. That is key to one of the parts of Problem 1."
     ]
    },
    {
     "cell_type": "markdown",
     "metadata": {},
     "source": [
      "##Problem 1\n",
      "\n",
      "A) In the script below, the first deletion yields an error and the second does not. Why? Please explain, making reference to the scope of the variables and mutability."
     ]
    },
    {
     "cell_type": "code",
     "collapsed": false,
     "input": [
      "#try to delete a variable in wrong scope\n",
      "\n",
      "def fn():\n",
      "    print x\n",
      "    #del x      #why is this bad when del is uncommented?\n",
      "    #del y[\"a\"] #why is this ok?\n",
      "    print y\n",
      "if __name__ == \"__main__\":\n",
      "    x = 10\n",
      "    y = {}\n",
      "    y[\"a\"] = \"b\"\n",
      "    fn()"
     ],
     "language": "python",
     "metadata": {},
     "outputs": [
      {
       "output_type": "stream",
       "stream": "stdout",
       "text": [
        "10\n",
        "{}\n"
       ]
      }
     ],
     "prompt_number": 3
    },
    {
     "cell_type": "markdown",
     "metadata": {},
     "source": [
      "In a given Python script, there is a divide between local and global environments. The global environment holds for the entire module, while local environments are established relative to some function or class -- basically any environment within Python that requires an indentation.\n",
      "\n",
      "Objects are bound within their environment, and further (taken from python.org's documentation) \"deletion of a name removes the binding of that name from the local or global namespace.\" In this chunk of code, the variable x is in the global namespace.\n",
      "\n",
      "When <code>del x</code> is executed on line 3, the terminal spits out the following error: <code>UnboundLocalError: local variable 'x' referenced before assignment</code>. The simple answer to why this error occurs is that the <code>del x</code> command deletes the variable from the global environment -- there is no local variable x to delete. Since there is no defined x variable on the global level, the <code>print x</code> command cannot be executed. \n",
      "\n",
      "The deletion of an element in the <code>y</code> dictionary does not yield a similar error, because the object itself is not deleted, just one of its elements. If, however, the <code>del y[\"a\"]</code> command were changed to <code>del y</code>, then terminal would throw an unbound local error."
     ]
    },
    {
     "cell_type": "markdown",
     "metadata": {},
     "source": [
      "B) Consider the scripts below. Three variables are referenced, `x`, `y`, and `z`. Why do the references for `x` and `y` go through, but not the one for `z`. "
     ]
    },
    {
     "cell_type": "code",
     "collapsed": false,
     "input": [
      "#stuff in __main__ module and globals\n",
      "\n",
      "if __name__ == '__main__':\n",
      "    print x        # why does this yield a value?\n",
      "    y[\"c\"] = 12\n",
      "    # z[\"a\"] = \"b\" #why does z trigger a name error and y does not?"
     ],
     "language": "python",
     "metadata": {},
     "outputs": []
    },
    {
     "cell_type": "markdown",
     "metadata": {},
     "source": [
      "When the code above (B) is added, there is a NameError when <code>z[\"a\"] = \"b\"</code> is uncommented.\n",
      "\n",
      "The NameError is thrown because there is no initialized dictionary. In order for the code to work, there would need to be a preceding line that defines <code>z</code> as a dictionary, like <code>z = {}</code>. Because there is no dictionary to insert <code>\"a\"</code> into, the program throws an error."
     ]
    },
    {
     "cell_type": "markdown",
     "metadata": {},
     "source": [
      "C) Given your answer above, why is it a good idea in a Python Notebook to do something like the `del` operations below occasionally? "
     ]
    },
    {
     "cell_type": "code",
     "collapsed": false,
     "input": [
      "if __name__ == '__main__':\n",
      "    del x\n",
      "    del y\n",
      "    del fn"
     ],
     "language": "python",
     "metadata": {},
     "outputs": []
    },
    {
     "cell_type": "markdown",
     "metadata": {},
     "source": [
      "Deleting the dictionary after it has been used is a good idea because it poses a security risk to any programs that you write in Python. So long as there is an initialized dictionary, malicious code can be inserted into any program.\n",
      "\n",
      "It may also be useful to tidy up the workspace, as naming conventions might lead to confusion between local and global variables. For instance, a function might be written to take a local variable as an argument (potentially as an argument to a nested function). If both local and global variables share a name, then this can cause the function to fail to find a local variable, but find the global without throwing a warning/error. One might then unknowingly obliterate a global variable. \n",
      "\n",
      "For some applications, such as those with large amounts of memory reserved for variables/functions, the del operations might be useful to reclaim the memory locations, which may otherwise reduce performance."
     ]
    },
    {
     "cell_type": "markdown",
     "metadata": {},
     "source": [
      "##Problem 2\n",
      "\n",
      "Consider the code below. Please explain why `l1` and `l2` end up the same, but `l4` is different and why, differently, `s1` and `s2` do not remain the same. Your answer should consider mutability, but really be about names and their referents in memory. If you are confused about this and other problems in the section, look at the code in [Python tutor](http://pythontutor.com)."
     ]
    },
    {
     "cell_type": "code",
     "collapsed": false,
     "input": [
      "if __name__ == '__main__':\n",
      "    s1 = s2 = s3 = \"testString\"\n",
      "    l1 = l2 = l3 = list(\"testList\")\n",
      "    l4 = l1[:]\n",
      "    \n",
      "    l1[0] = 'T'\n",
      "    s1 = s1.capitalize()\n",
      "    print l1, l2, l4\n",
      "    print s1, s2\n",
      "    \n",
      "    del s1,s2,s3,l1,l2,l3,l4"
     ],
     "language": "python",
     "metadata": {},
     "outputs": [
      {
       "output_type": "stream",
       "stream": "stdout",
       "text": [
        "['T', 'e', 's', 't', 'L', 'i', 's', 't'] ['T', 'e', 's', 't', 'L', 'i', 's', 't'] ['t', 'e', 's', 't', 'L', 'i', 's', 't']\n",
        "Teststring testString\n"
       ]
      }
     ],
     "prompt_number": 4
    },
    {
     "cell_type": "markdown",
     "metadata": {},
     "source": [
      "When there is a manipulation of the list by one of the variables, here l1, the manipulation holds of all the associated variables. In other words, even if the list-object is manipulated by only one of the variables that refers to it, it will remain changed when called by any of the other variables that refer to it. While this generalization holds of lists, it does not hold with strings. Even though s1 and s2 both refer to the same object, namely the string \"testString\", the manipulation of one of the variables does not lead to the manipulation of the external object itself. Otherwise, we would expect the output of <code>print s1, s2</code> to be capitalized.\n",
      "\n",
      "l4 is different from the above in that it is a variable that refers to the variable l1. Any manipulation to l1 is reflected as a manipulation in l4. For example, if the line <code>l1[0] = 'T'</code> is executed before l4 is introduced, then l4 looks identical to l1 and l2. In the chunk of code presented here, however, l4 is set to equal the list of characters in testString *before* testString is capitalized. This shows that a manipulation to a list is only tied to the variables that are linked to it *at the list's instantiation*. In this case, a manipulation of the variable l1 is linked to l4, but the same relationship does not hold of l1's \"sister\" variables to l4. "
     ]
    },
    {
     "cell_type": "markdown",
     "metadata": {},
     "source": [
      "##Problem 3\n",
      "\n",
      "I told you that functions are bits of code in memory; you even saw that in [Python tutor](http://pythontutor.com). We also saw that functions are named by using the `def` keyword. But we already know that functions are bits of memory, like everything else. And so, you can bind several names to function just by assignment."
     ]
    },
    {
     "cell_type": "code",
     "collapsed": false,
     "input": [
      "def fn(i):\n",
      "    print i*i\n",
      "\n",
      "if __name__ == '__main__':\n",
      "    fn(2)\n",
      "    newF = fn\n",
      "    newF(3)\n",
      "    del fn, newF"
     ],
     "language": "python",
     "metadata": {},
     "outputs": [
      {
       "output_type": "stream",
       "stream": "stdout",
       "text": [
        "4\n",
        "9\n"
       ]
      }
     ],
     "prompt_number": 5
    },
    {
     "cell_type": "markdown",
     "metadata": {},
     "source": [
      "And just like any other variable, you can return a function name, which shares the referent:"
     ]
    },
    {
     "cell_type": "code",
     "collapsed": false,
     "input": [
      "def fn():\n",
      "    def square(i):\n",
      "        return i*i\n",
      "    return square\n",
      "\n",
      "if __name__ == \"__main__\":\n",
      "    fvar = fn()\n",
      "    print fvar(30)\n",
      "    del fn,fvar"
     ],
     "language": "python",
     "metadata": {},
     "outputs": []
    },
    {
     "cell_type": "markdown",
     "metadata": {},
     "source": [
      "A) Consider the function below. Please call it to multiply 5 and 10 to get 50."
     ]
    },
    {
     "cell_type": "code",
     "collapsed": false,
     "input": [
      "def outer(x):\n",
      "    def inner(y):\n",
      "        return x*y\n",
      "    return inner\n",
      "\n",
      "if __name__ == \"__main__\":\n",
      "    inner = outer(5) # Returns a function expecting one argument \n",
      "    print inner(10)\n",
      "    del outer"
     ],
     "language": "python",
     "metadata": {},
     "outputs": [
      {
       "output_type": "stream",
       "stream": "stdout",
       "text": [
        "50\n"
       ]
      }
     ],
     "prompt_number": 19
    },
    {
     "cell_type": "markdown",
     "metadata": {},
     "source": [
      "B) Now complete the definition of the function called `love` which passes the tests below."
     ]
    },
    {
     "cell_type": "code",
     "collapsed": false,
     "input": [
      "def love(x):\n",
      "    verb = \"love\"\n",
      "    def love_inner(y):\n",
      "        #Agree with third person singular\n",
      "        thirdSgPron = [\"He\", \"he\", \"She\", \"she\", \"It\", \"it\"]\n",
      "        if x in thirdSgPron:\n",
      "            return \" \".join([x, verb+\"s\", y])\n",
      "        else:\n",
      "            return \" \".join([x, verb, y])\n",
      "    return love_inner\n",
      "\n",
      "if __name__ == '__main__':\n",
      "    print love(\"I\")(\"Python\") == \"I love Python\"\n",
      "    print love(\"he\")(\"Python\") == \"he loves Python\"\n",
      "    del love"
     ],
     "language": "python",
     "metadata": {},
     "outputs": [
      {
       "output_type": "stream",
       "stream": "stdout",
       "text": [
        "True\n",
        "True\n"
       ]
      }
     ],
     "prompt_number": 35
    },
    {
     "cell_type": "markdown",
     "metadata": {},
     "source": [
      "We've seen that we can bind a name to a function separate from the definition. \n",
      "\n",
      "The final thing to know about functions is that it is possible to define them without naming them too (these are called, appropriately, **anonymous** functions. To do that, you use the `lambda` construct. \n",
      "\n",
      "**Caution:** The lambda construct is a one-liner; you can't make it longer -- [see here for the reason](http://stackoverflow.com/questions/1233448/no-multiline-lambda-in-python-why-not)"
     ]
    },
    {
     "cell_type": "code",
     "collapsed": false,
     "input": [
      "#normal functions\n",
      "def add(x,y):\n",
      "    return x+y\n",
      "\n",
      "def double(x):\n",
      "    return x+x\n",
      "\n",
      "fAdd = lambda x,y: x+y #declaring and assigning anonymous functions\n",
      "fDouble = lambda x: x+x\n",
      "\n",
      "print fAdd == add #not the same function, since they are different in memory \n",
      "print fAdd(3,2) == add(3,2) #but they do the same thing\n",
      "\n",
      "del add,double,fAdd,fDouble"
     ],
     "language": "python",
     "metadata": {},
     "outputs": []
    },
    {
     "cell_type": "markdown",
     "metadata": {},
     "source": [
      "C) Rewrite the love function to replace `love_inner` with a `lambda` function."
     ]
    },
    {
     "cell_type": "code",
     "collapsed": false,
     "input": [
      "def love(x):\n",
      "    verb = \"love\"\n",
      "    if x in [\"he\", \"she\", \"it\"]:\n",
      "        verb = verb + \"s\"\n",
      "    \n",
      "    return lambda y: \" \".join([x, verb, y])\n",
      "\n",
      "if __name__ == '__main__':\n",
      "    print love(\"I\")(\"Python\") == \"I love Python\"\n",
      "    print love(\"he\")(\"Python\") == \"he loves Python\"\n",
      "    del love"
     ],
     "language": "python",
     "metadata": {},
     "outputs": [
      {
       "output_type": "stream",
       "stream": "stdout",
       "text": [
        "True\n",
        "True\n"
       ]
      }
     ],
     "prompt_number": 34
    },
    {
     "cell_type": "markdown",
     "metadata": {},
     "source": [
      "##Problem 4\n",
      "\n",
      "With all of that out of the way, please explain in your own words why `outer()()` and `outer_nonlexical()()` behave so differently. I know there is a detailed explanation for this, but I want to hear it in your own words. It should start with an explanation for why we need two sets of parens here..."
     ]
    },
    {
     "cell_type": "code",
     "collapsed": false,
     "input": [
      "#closure variables\n",
      "def outer():\n",
      "    a = 1\n",
      "    # creating a lexically nested function bar\n",
      "    def inner():\n",
      "        # a is visible from outer's locals\n",
      "        return a\n",
      "    b = 2 # b is here for an example later on\n",
      "    return inner\n",
      " \n",
      "# inner_nonlexical will be called from within\n",
      "#  outer_nonlexical but it is not lexically nested\n",
      "def inner_nonlexical():\n",
      "    return a # a is not visible\n",
      "def outer_nonlexical():\n",
      "    a = 1\n",
      "    inner = inner_nonlexical\n",
      "    b = 2 # b is here for an example later on\n",
      "    return inner_nonlexical\n",
      "\n",
      "outer()()\n",
      "outer_nonlexical()()\n",
      "\n",
      "del outer, outer_nonlexical"
     ],
     "language": "python",
     "metadata": {},
     "outputs": [
      {
       "ename": "NameError",
       "evalue": "global name 'a' is not defined",
       "output_type": "pyerr",
       "traceback": [
        "\u001b[0;31m---------------------------------------------------------------------------\u001b[0m\n\u001b[0;31mNameError\u001b[0m                                 Traceback (most recent call last)",
        "\u001b[0;32m<ipython-input-33-b0d7e1982579>\u001b[0m in \u001b[0;36m<module>\u001b[0;34m()\u001b[0m\n\u001b[1;32m     20\u001b[0m \u001b[0;34m\u001b[0m\u001b[0m\n\u001b[1;32m     21\u001b[0m \u001b[0mouter\u001b[0m\u001b[0;34m(\u001b[0m\u001b[0;34m)\u001b[0m\u001b[0;34m(\u001b[0m\u001b[0;34m)\u001b[0m\u001b[0;34m\u001b[0m\u001b[0m\n\u001b[0;32m---> 22\u001b[0;31m \u001b[0mouter_nonlexical\u001b[0m\u001b[0;34m(\u001b[0m\u001b[0;34m)\u001b[0m\u001b[0;34m(\u001b[0m\u001b[0;34m)\u001b[0m\u001b[0;34m\u001b[0m\u001b[0m\n\u001b[0m\u001b[1;32m     23\u001b[0m \u001b[0;34m\u001b[0m\u001b[0m\n\u001b[1;32m     24\u001b[0m \u001b[0;32mdel\u001b[0m \u001b[0mouter\u001b[0m\u001b[0;34m,\u001b[0m \u001b[0mouter_nonlexical\u001b[0m\u001b[0;34m\u001b[0m\u001b[0m\n",
        "\u001b[0;32m<ipython-input-33-b0d7e1982579>\u001b[0m in \u001b[0;36minner_nonlexical\u001b[0;34m()\u001b[0m\n\u001b[1;32m     12\u001b[0m \u001b[0;31m#  outer_nonlexical but it is not lexically nested\u001b[0m\u001b[0;34m\u001b[0m\u001b[0;34m\u001b[0m\u001b[0m\n\u001b[1;32m     13\u001b[0m \u001b[0;32mdef\u001b[0m \u001b[0minner_nonlexical\u001b[0m\u001b[0;34m(\u001b[0m\u001b[0;34m)\u001b[0m\u001b[0;34m:\u001b[0m\u001b[0;34m\u001b[0m\u001b[0m\n\u001b[0;32m---> 14\u001b[0;31m     \u001b[0;32mreturn\u001b[0m \u001b[0ma\u001b[0m \u001b[0;31m# a is not visible\u001b[0m\u001b[0;34m\u001b[0m\u001b[0m\n\u001b[0m\u001b[1;32m     15\u001b[0m \u001b[0;32mdef\u001b[0m \u001b[0mouter_nonlexical\u001b[0m\u001b[0;34m(\u001b[0m\u001b[0;34m)\u001b[0m\u001b[0;34m:\u001b[0m\u001b[0;34m\u001b[0m\u001b[0m\n\u001b[1;32m     16\u001b[0m     \u001b[0ma\u001b[0m \u001b[0;34m=\u001b[0m \u001b[0;36m1\u001b[0m\u001b[0;34m\u001b[0m\u001b[0m\n",
        "\u001b[0;31mNameError\u001b[0m: global name 'a' is not defined"
       ]
      }
     ],
     "prompt_number": 33
    },
    {
     "cell_type": "markdown",
     "metadata": {},
     "source": [
      "Each of these functions requires two arguments because the outer function (the first argument) contains a second function (the second argument). The inner function returns a value which is passed to the outer function. In the lexically nested function <code>outer()()</code>, <code>a</code> is defined as a local variable inside the function definition. All nested functions (such as inner()) can refer to <code>a</code>, because the variable is defined in the parent's namespace (definition of outer()).\n",
      "\n",
      "In <code>outer_nonlexical()()</code>, the variable <code>a</code> is not defined locally for the <code>inner_nonlexical()</code> function. Therefore, the inner function returns a variable that is undefined both locally and globally (since there is no variable <code>a</code> defined in the global domain for the module). "
     ]
    },
    {
     "cell_type": "markdown",
     "metadata": {},
     "source": [
      "<hr/>\n",
      "<center><h1>Sorting Complex Lists</h1></center>\n",
      "<hr/>"
     ]
    },
    {
     "cell_type": "markdown",
     "metadata": {},
     "source": [
      "##Problem 5\n",
      "\n",
      "Recall that `sort` and `sorted` can take a *key* optional parameter to do the sorting. We saw one use of that, where you can sort by length or by first 'e'. In this problem, we'll consider the canonical use, sorting complex list elements.\n",
      "\n",
      "In particular, we will consider cases where the list elements are dictionaries representing tokens."
     ]
    },
    {
     "cell_type": "code",
     "collapsed": false,
     "input": [
      "tokens = [{\"word\": \"A\", \"normed\": \"a\", \"pos\": \"DT\"},\n",
      "          {\"word\": \"final\", \"normed\": \"final\", \"pos\": \"JJ\"},\n",
      "          {\"word\": \"problem\", \"normed\": \"problem\", \"pos\": \"NN\"},\n",
      "          {\"word\": \"would\", \"normed\": \"would\", \"pos\": \"MD\"},\n",
      "          {\"word\": \"be\", \"normed\": \"be\", \"pos\": \"VB\"},\n",
      "          {\"word\": \"nice\", \"normed\": \"nice\", \"pos\": \"JJ\"}]\n",
      "\n",
      "tokensRevSorted = [{'normed': 'would', 'word': 'would', 'pos': 'MD'}, \n",
      "                   {'normed': 'problem', 'word': 'problem', 'pos': 'NN'}, \n",
      "                   {'normed': 'be', 'word': 'be', 'pos': 'VB'}, \n",
      "                   {'normed': 'nice', 'word': 'nice', 'pos': 'JJ'}, \n",
      "                   {'normed': 'a', 'word': 'A', 'pos': 'DT'}, \n",
      "                   {'normed': 'final', 'word': 'final', 'pos': 'JJ'}]\n"
     ],
     "language": "python",
     "metadata": {},
     "outputs": [],
     "prompt_number": 36
    },
    {
     "cell_type": "markdown",
     "metadata": {},
     "source": [
      "Define a new key function, either named or anonymous, to sort the token list by final vowel of the normed version and sort the tokens by reverse order wrt that function."
     ]
    },
    {
     "cell_type": "code",
     "collapsed": false,
     "input": [
      "def ourKey(token):\n",
      "    vowels = [\"a\", \"e\", \"i\", \"o\", \"u\"]\n",
      "    normed = token['normed']\n",
      "    tokenRange = range(0, len(normed))\n",
      "    tokenRange.reverse()\n",
      "    for i in tokenRange:\n",
      "        if normed[i] in vowels:\n",
      "            return normed[i]\n",
      "\n",
      "print sorted(tokens, key=ourKey, reverse=True) == tokensRevSorted\n",
      "\n"
     ],
     "language": "python",
     "metadata": {},
     "outputs": [
      {
       "output_type": "stream",
       "stream": "stdout",
       "text": [
        "True\n"
       ]
      }
     ],
     "prompt_number": 37
    },
    {
     "cell_type": "markdown",
     "metadata": {},
     "source": [
      "##Problem 6\n",
      "\n",
      "In addition to getting custom keys for sorting, Python 2 also allows a `cmp` parameter, a function that is explicitly called to compare two elements during the sorting. Functions that implement `cmp` have the following character:\n",
      "\n",
      "1. they take two elements, call them `x` and `y`\n",
      "2. they return -1, 0, or 1:  \n",
      "    1. -1: if you want `x` before `y`\n",
      "    2. 0: if you treat `x` and `y` as equal\n",
      "    3. 1: if you want `x` after `y`\n",
      "\n",
      "With this in mind, consider the code below, which sorts a list of strings by the length. This is like what we talked about in class, except now I am using `cmp` instead of `key`."
     ]
    },
    {
     "cell_type": "code",
     "collapsed": false,
     "input": [
      "def cmpByLen(x,y):\n",
      "    \"\"\"this function compares two strings in terms of length\"\"\"\n",
      "    \n",
      "    lx = len(x)\n",
      "    ly = len(y)\n",
      "    \n",
      "    # look up the cmp function, which is basically this\n",
      "    if lx < ly:\n",
      "        return -1\n",
      "    elif lx == ly:\n",
      "        return cmp(x, y)\n",
      "    elif lx > ly:\n",
      "        return 1\n",
      "\n",
      "li = \"these are some words that form a sentence of dubious value and a self-referential egotism I assume\".lower().split(\" \")\n",
      "print sorted(li, cmp=cmpByLen)\n",
      "del li\n",
      "del cmpByLen"
     ],
     "language": "python",
     "metadata": {},
     "outputs": [
      {
       "output_type": "stream",
       "stream": "stdout",
       "text": [
        "['a', 'a', 'i', 'of', 'and', 'are', 'form', 'some', 'that', 'these', 'value', 'words', 'assume', 'dubious', 'egotism', 'sentence', 'self-referential']\n"
       ]
      }
     ],
     "prompt_number": 38
    },
    {
     "cell_type": "markdown",
     "metadata": {},
     "source": [
      "Now, forearmed with this knowledge, sort tokens first by part of speech and then by normed word.\n",
      "\n",
      "I'd like the following order of parts of speech (first to last): DT, JJ, NN, MD, VB"
     ]
    },
    {
     "cell_type": "code",
     "collapsed": false,
     "input": [
      "def cmpComplicated(tok1, tok2, rankedPOS = [\"DT\", \"JJ\", \"NN\", \"MD\", \"VB\"]):\n",
      "    \"\"\"This function sorts first by part of speech and then by normed word.\n",
      "    By default order of POS: DT, JJ, NN, MD, VB\n",
      "    \"\"\"\n",
      "\n",
      "    # Extract the pos of each token\n",
      "    pos1 = tok1[\"pos\"]\n",
      "    pos2 = tok2[\"pos\"]\n",
      "\n",
      "    # Error check to make sure tokens have a legal part of speach. If they don't we give them rank -1 to ensure they will be at the top of the list\n",
      "    if not pos1 in rankedPOS:\n",
      "        rank1 = -1\n",
      "    else:\n",
      "        rank1 = rankedPOS.index(pos1)\n",
      "    \n",
      "    if not pos2 in rankedPOS:\n",
      "        rank2 = 1\n",
      "    else:\n",
      "        rank2 = rankedPOS.index(pos2)\n",
      "    \n",
      "    # Compare ranks to sort \n",
      "    if rank1 < rank2:\n",
      "        return -1\n",
      "    elif rank1 > rank2 :\n",
      "        return 1\n",
      "    else:\n",
      "        return 0\n",
      "\n",
      "complicatedSortTokens = [{'normed': 'a', 'word': 'A', 'pos': 'DT'}, \n",
      "                         {'normed': 'final', 'word': 'final', 'pos': 'JJ'}, \n",
      "                         {'normed': 'nice', 'word': 'nice', 'pos': 'JJ'}, \n",
      "                         {'normed': 'problem', 'word': 'problem', 'pos': 'NN'}, \n",
      "                         {'normed': 'would', 'word': 'would', 'pos': 'MD'}, \n",
      "                         {'normed': 'be', 'word': 'be', 'pos': 'VB'}]\n",
      "\n",
      "print sorted(tokens, cmp=cmpComplicated) ==  complicatedSortTokens"
     ],
     "language": "python",
     "metadata": {},
     "outputs": [
      {
       "output_type": "stream",
       "stream": "stdout",
       "text": [
        "True\n"
       ]
      }
     ],
     "prompt_number": 39
    },
    {
     "cell_type": "markdown",
     "metadata": {},
     "source": [
      "<hr/>\n",
      "<center><h1>Alliteration, Assonace, Consonance</h1></center>\n",
      "<hr/>"
     ]
    },
    {
     "cell_type": "markdown",
     "metadata": {},
     "source": [
      "## Problem 7\n",
      "\n",
      "Finally, alliteration. To do this problem, we will need some help beyond copying from wiktionary, as much fun as that might be. We will use the [CMU Pronouncing Dictionary](http://www.speech.cs.cmu.edu/cgi-bin/cmudict). I have a version I've already made into a `dict`. Let me show you how to load it:"
     ]
    },
    {
     "cell_type": "code",
     "collapsed": false,
     "input": [
      "import json\n",
      "f = open(\"cmdict7a.json\", \"r\")\n",
      "dictionary = json.load(f)\n",
      "f.close()\n",
      "del f"
     ],
     "language": "python",
     "metadata": {},
     "outputs": [],
     "prompt_number": 40
    },
    {
     "cell_type": "markdown",
     "metadata": {},
     "source": [
      "The dictionary has a few quirks. \n",
      "\n",
      "**First**, several words have multiple pronunciations, and I've chosen mark that by making the pronunciations a list, so something like:\n",
      "\n",
      "    dictionary[\"word\"] = [ pronunciation1, pronunciation2, ...]\n",
      "\n",
      "**Second**, the pronunciations themselves aren't in IPA, but an ASCII standard called [ARPABET](http://en.wikipedia.org/wiki/Arpabet) (while you are at that page, check out [SAMPA](http://en.wikipedia.org/wiki/X-SAMPA). If you'd like to convert that to IPA, you can, but I don't think you should need to do that here. Note that many phonemes are consequently several characters, which can make it hard to properly segment a word.\n",
      "\n",
      "I chose to split each pronunciation into a **list** of the phonemes, so that it'd be easier to process.\n",
      "\n",
      "    dictionary[\"test\"] = [[u'T', u'EH', u'S', u'T']]\n",
      "    dictionary[\"question\"] = [[u'K', u'W', u'EH', u'S', u'CH', u'AH', u'N'],\n",
      "                             [u'K', u'W', u'EH', u'SH', u'AH', u'N']]\n",
      "    \n",
      "(The u's in front of the strings indicate they are unicode strings. That comes from how I encoded. It won't matter for what you are doing, since the Unicode code points for ASCII characters align with the ASCII numbers.)"
     ]
    },
    {
     "cell_type": "code",
     "collapsed": false,
     "input": [
      "print dictionary[\"global\"]\n"
     ],
     "language": "python",
     "metadata": {},
     "outputs": [
      {
       "output_type": "stream",
       "stream": "stdout",
       "text": [
        "[[u'G', u'L', u'OW', u'B', u'AH', u'L']]\n"
       ]
      }
     ],
     "prompt_number": 175
    },
    {
     "cell_type": "markdown",
     "metadata": {},
     "source": [
      "Ok, now the problem. Write three functions to do the following:\n",
      "\n",
      "1. `alliteration(w1, w2)`: True when w1 and w2 start with the same consonant\n",
      "2. `assonance(w1, w2)`: True when w1 and w2 share the same **first** vowel\n",
      "3. `rhyme(w1,w2)`: True when w1 and w2 rhyme (the rhymes are identical)\n",
      "\n",
      "Recall that some words have multiple pronunciations. Make sure to try all combinations (hint, you will need a `for` loop inside another `for` loop!)."
     ]
    },
    {
     "cell_type": "code",
     "collapsed": false,
     "input": [
      "def alliteration(w1, w2):\n",
      "    \"\"\"says if w1 and w2 share the same initial consonant\"\"\"\n",
      "    \n",
      "    # Pull w1 and w2's list of pronunciations out of the dictionary \n",
      "    w1 = dictionary[w1]\n",
      "    w2 = dictionary[w2]\n",
      "    \n",
      "    # Create a list of ARPABET consonants\n",
      "    consonants = [u\"P\", u\"B\", u\"T\", u\"D\", u\"K\", u\"G\", u\"CH\", u\"JH\", u\"F\", u\"V\", u\"TH\", u\"DH\", u\"S\", u\"Z\", u\"SH\", u\"ZH\", u\"HH\", u\"M\", u\"N\", u\"NG\", u\"L\", u\"R\", u\"DX\", u\"W\", u\"J\", u\"R\", u\"Q\"]\n",
      "\n",
      "    # Going through each combination of pronunciations\n",
      "    for pronunciation1 in w1:\n",
      "        for pronunciation2 in w2:\n",
      "            \n",
      "            # return true of the first phoneme is identical and a consonant\n",
      "            if pronunciation1[0] == pronunciation2[0] and pronunciation1[0] in consonants:\n",
      "                return True\n",
      "    \n",
      "    # If we reach the end of the loop without finding matches on any consonent return false\n",
      "    return False\n",
      "\n",
      "def assonance(w1, w2):\n",
      "    \"\"\"says if w1 and w2 share the same first vowel\"\"\"\n",
      "\n",
      "    # Pull w1 and w2's list of pronunciations out of the dictionary \n",
      "    w1 = dictionary[w1]\n",
      "    w2 = dictionary[w2]\n",
      "\n",
      "    # Create a list of ARPABET vowels\n",
      "    vowels = [u\"AO\", u\"AA\", u\"IY\", u\"UW\", u\"EH\", u\"IH\", u\"UH\", u\"AH\", u\"AX\", u\"AE\", u\"EY\", u\"AY\", u\"OW\", u\"AW\", u\"OY\", u\"ER\"]\n",
      "    \n",
      "    def firstVowel(pronunciation):\n",
      "        '''Finds the first vowel in a list of ARPABET phonemes\n",
      "           Returns the first vowel found or \"stop\" otherwise'''\n",
      "        for phoneme in pronunciation:\n",
      "            if phoneme in vowels:\n",
      "                return phoneme\n",
      "        return \"stop\"\n",
      "    \n",
      "    \n",
      "    # Go through each list of pronunciations\n",
      "    for pronunciation1 in w1:\n",
      "        for pronunciation2 in w2:\n",
      "            vowel1 = firstVowel(pronunciation1)\n",
      "            vowel2 = firstVowel(pronunciation2)\n",
      "            \n",
      "            # Check to make sure neither pronunciation indicates stop\n",
      "            if vowel1 != \"stop\" and vowel2 != \"stop\":  \n",
      "                # If the first vowels are the same return true\n",
      "                if vowel1 == vowel2: \n",
      "                    return True\n",
      "    \n",
      "    # If we reach the end of the loop without finding matches on any consonent return false\n",
      "    return False\n",
      "\n",
      "def rhyme(w1, w2):\n",
      "    \"\"\"says if w1 and w2 rhyme\"\"\"\n",
      "\n",
      "    # Pull w1 and w2's list of pronunciations out of the dictionary \n",
      "    w1 = dictionary[w1]\n",
      "    w2 = dictionary[w2]\n",
      "\n",
      "    # Create a list of ARPABET vowels\n",
      "    vowels = [u\"AO\", u\"AA\", u\"IY\", u\"UW\", u\"EH\", u\"IH\", u\"UH\", u\"AH\", u\"AX\", u\"AE\", u\"EY\", u\"AY\", u\"OW\", u\"AW\", u\"OY\", u\"ER\"]\n",
      "    \n",
      "    def findRhyme(pronunciation):\n",
      "        '''Finds the rhyme of a word in ARPABET\n",
      "           Returns everything after the last vowel'''\n",
      "        \n",
      "        \n",
      "        def lastVowel(pronunciation):\n",
      "            '''Finds the index of the last vowel of a word in ARPABET'''\n",
      "            \n",
      "            # Go through the pronunciation backwords to find the index last vowel\n",
      "            rRange = range(0, len(pronunciation))\n",
      "            rRange.reverse()\n",
      "            for index in rRange:\n",
      "                if pronunciation[index] in vowels:\n",
      "                    return index\n",
      "\n",
      "            # If we don't find an index we return \"stop\"\n",
      "            return \"stop\"\n",
      "        \n",
      "        lastVowelIndex = lastVowel(pronunciation)\n",
      "        \n",
      "        # Pass \"stop\" if the last vowel index is \"stop\" u\n",
      "        if lastVowelIndex == \"stop\":\n",
      "            return \"stop\"\n",
      "        # Return everything from the last vowel on\n",
      "        else:\n",
      "            return pronunciation[lastVowelIndex:]\n",
      "    \n",
      "    \n",
      "    # Go through each list of pronunciations\n",
      "    for pronunciation1 in w1:\n",
      "        for pronunciation2 in w2:\n",
      "            rhyme1 = findRhyme(pronunciation1)\n",
      "            rhyme2 = findRhyme(pronunciation2)\n",
      "            # Check to make sure neither pronunciation indicates stop\n",
      "            if rhyme1 != \"stop\" and rhyme2 != \"stop\":  \n",
      "                # If the rhymes are the same  true\n",
      "                if rhyme1 == rhyme2: \n",
      "                    return True\n",
      "    \n",
      "    # If we reach the end of the loop without finding matches on any consonent return false\n",
      "    return False\n",
      "\n",
      "def doTest(s, f):\n",
      "    for w1,w2,val in s:\n",
      "        ret = f(w1,w2)\n",
      "        if ret == val:\n",
      "            suc = \"PASS\"\n",
      "        else:\n",
      "            suc = \"FAIL\"\n",
      "        print \"%15s(%s, %s)\\t=%s\\t\\t%s\\t%s\\n\" %(f.__name__,w1, w2, ret, val, suc)\n",
      "\n",
      "if __name__ == '__main__':\n",
      "    test = [(\"simple\", \"sample\", True), (\"trip\", \"took\", True),\n",
      "                        (\"trip\", \"rip\", False), (\"trap\", \"sample\", False)]\n",
      "    doTest(test, alliteration)\n",
      "    \n",
      "    test = [(\"simple\", \"sample\", False), (\"trip\", \"took\", False),\n",
      "                        (\"trip\", \"rip\", True), (\"trap\", \"sample\", True)]\n",
      "    doTest(test, assonance)\n",
      "    \n",
      "    test = [(\"simple\", \"sample\", True), (\"trip\", \"rip\", True),\n",
      "                        (\"trust\", \"rip\", False), (\"through\", \"rough\", False)]\n",
      "    doTest(test, rhyme)"
     ],
     "language": "python",
     "metadata": {},
     "outputs": [
      {
       "output_type": "stream",
       "stream": "stdout",
       "text": [
        "   alliteration(simple, sample)\t=True\t\tTrue\tPASS\n",
        "\n",
        "   alliteration(trip, took)\t=True\t\tTrue\tPASS\n",
        "\n",
        "   alliteration(trip, rip)\t=False\t\tFalse\tPASS\n",
        "\n",
        "   alliteration(trap, sample)\t=False\t\tFalse\tPASS\n",
        "\n",
        "      assonance(simple, sample)\t=False\t\tFalse\tPASS\n",
        "\n",
        "      assonance(trip, took)\t=False\t\tFalse\tPASS\n",
        "\n",
        "      assonance(trip, rip)\t=True\t\tTrue\tPASS\n",
        "\n",
        "      assonance(trap, sample)\t=True\t\tTrue\tPASS\n",
        "\n",
        "          rhyme(simple, sample)\t=True\t\tTrue\tPASS\n",
        "\n",
        "          rhyme(trip, rip)\t=True\t\tTrue\tPASS\n",
        "\n",
        "          rhyme(trust, rip)\t=False\t\tFalse\tPASS\n",
        "\n",
        "          rhyme(through, rough)\t=False\t\tFalse\tPASS\n",
        "\n"
       ]
      }
     ],
     "prompt_number": 41
    },
    {
     "cell_type": "markdown",
     "metadata": {},
     "source": [
      "## Problem 8 (244 and Advanced Students Only)\n",
      "\n",
      "The CMU dictionary lacks syllabification. Write a program to syllabify any list of Arpabet phonemes. Sky's the limit."
     ]
    },
    {
     "cell_type": "code",
     "collapsed": false,
     "input": [
      "def syllabify(word):\n",
      "    ''' Syllabify multiple pronunciations of a word in ARPABET\n",
      "    works by going backword through each pronunciation removing \n",
      "    the last rhyme and the biggest legal onset cluster it can find\n",
      "    \n",
      "    RETURNS: a list of Syllables for each pronunciation of word'''\n",
      "       \n",
      "    def syllabifyPronunciation(pronunciation):\n",
      "        ''' Syllabify a particular pronunciation of a word'''\n",
      "        \n",
      "        # Create a list of ARPABET vowels\n",
      "        vowels = [u\"AO\", u\"AA\", u\"IY\", u\"UW\", u\"EH\", u\"IH\", u\"UH\", u\"AH\", u\"AX\", u\"AE\", u\"EY\", u\"AY\", u\"OW\", u\"AW\", u\"OY\", u\"ER\"]\n",
      "   \n",
      "        def reversedVowelIndexList(pronunciation):\n",
      "            ''' returns a list with the indices of each vowel in the list of phonemes ordered from last to first'''\n",
      "            \n",
      "            reversedIndex = []\n",
      "            for index in range(0, len(pronunciation)):\n",
      "                if pronunciation[index] in vowels:\n",
      "                    reversedIndex.append(index)\n",
      "            reversedIndex.reverse()\n",
      "            return reversedIndex\n",
      "        \n",
      "        \n",
      "        def findLargestOnsClusterLength(pronunciation):\n",
      "            '''Finds the largest onset cluster that matches the end of a list of phonemes.\n",
      "\n",
      "            RETURNS distance from the end of the word to the begining of the cluster'''\n",
      "\n",
      "            # Create a list of allowable consenent onset clusters ordered by lengths\n",
      "            onsClusters = [[u'S', u'K', u'Y'], [u'S', u'K', u'L'], [u'S', u'K', u'W'], [u'S', u'M', u'Y'], [u'S', u'P', u'Y'], [u'S', u'P', u'L'], [u'S', u'P', u'R'], [u'S', u'T', u'Y'], [u'S', u'T', u'R'], [u'B', u'Y'], [u'B', 'L'], [u'B', 'R'], [u'D','Y'], [u'D', 'R'], [u'D', 'W'], [u'F', 'Y'], [u'F', 'L'], [u'F', u'R'], [u'G', u'Y'], [u'G', u'L'], [u'G', u'R'], [u'G', u'W'], [u'H', u'Y'], [u'K', u'Y'], [u'K', u'L'], [u'K', u'R'], [u'K', u'W'], [u'L', u'Y'], [u'M', u'Y'], [u'N', u'Y'], [u'P', u'F'], [u'P', u'Y'], [u'P', u'L'], [u'P', u'R'], [u'P', u'W'], [u'S', u'F'], [u'S', u'Y'], [u'S', u'L'], [u'S', u'M'], [u'S', u'N'], [u'S', u'P'], [u'S', u'T'], [u'T', u'Y'], [u'T', u'R'], [u'T', u'W'], [u'V', u'Y'], [u'Z', u'Y'], [u'TH', u'Y'], [u'TH', u'R'], [u'TH', u'W'], [u'P'], [u'B'], [u'T'], [u'D'], [u'K'], [u'G'], [u'CH'], [u'JH'], [u'F'], [u'V'], [u'TH'], [u'DH'], [u'S'], [u'Z'], [u'SH'], [u'ZH'], [u'HH'], [u'M'], [u'N'], [u'L'], [u'R'], [u'DX'], [u'W'], [u'J'], [u'R'], [u'Q']]\n",
      "            \n",
      "            # Go through the in order of length, stop when there's a match\n",
      "            for cluster in onsClusters:\n",
      "                clength = -len(cluster)\n",
      "                if cluster == pronunciation[clength:]:\n",
      "                    return clength\n",
      "            # If no clusters match return \"no clusters found\"\n",
      "            return \"no clusters found\"\n",
      "        \n",
      "     \n",
      "        \n",
      "        syllableList = []\n",
      "        rVIList = reversedVowelIndexList(pronunciation)\n",
      "        for index in rVIList:\n",
      "            #Take of everything after the last vowel and remove it from the pronunciation saving the last rhyme for later\n",
      "            rhyme = pronunciation[index:]\n",
      "            pronunciation = pronunciation[:index]\n",
      "            \n",
      "            #Get the length of the largest onset cluster at the end of the word\n",
      "            onslength = findLargestOnsClusterLength(pronunciation)\n",
      "            \n",
      "            \n",
      "            # Check that an onset was defined an remove it saving it for later\n",
      "            if onslength != \"no clusters found\":\n",
      "                onset = pronunciation[onslength:]\n",
      "                pronunciation = pronunciation[:onslength]\n",
      "            else: \n",
      "                onset = []\n",
      "            \n",
      "            \n",
      "            #Put the onset and the rhyme together and prepend it to the syllable list\n",
      "            syllable = [onset + rhyme]\n",
      "            syllable.extend(syllableList)\n",
      "            syllableList = syllable\n",
      "    \n",
      "        return syllableList\n",
      "    \n",
      "    # Syllabify Every pronunciation in word\n",
      "    syllabifications = []\n",
      "    for pronunciation in word:\n",
      "        sylParse = syllabifyPronunciation(pronunciation)\n",
      "        syllabifications.append(sylParse)\n",
      "    \n",
      "    return syllabifications\n",
      "            \n",
      "        \n",
      "print syllabify(dictionary[\"obligatory\"])\n",
      "print syllabify(dictionary[\"poop\"])\n",
      "print syllabify(dictionary[\"stringent\"])\n",
      "print syllabify(dictionary[\"stale\"])\n",
      "#print syllabify(dictionary[\"swag\"])\n",
      "print syllabify(dictionary[\"hubris\"])\n",
      "print syllabify(dictionary[\"pandering\"])\n",
      "print syllabify(dictionary[\"overconfidence\"])\n",
      "print syllabify(dictionary[\"question\"])"
     ],
     "language": "python",
     "metadata": {},
     "outputs": [
      {
       "output_type": "stream",
       "stream": "stdout",
       "text": [
        "[[[u'AH'], [u'B', u'L', u'IH'], [u'G', u'AH'], [u'T', u'AO'], [u'R', u'IY']]]\n",
        "[[[u'P', u'UW', u'P']]]\n",
        "[[[u'S', u'T', u'R', u'IH', u'N'], [u'JH', u'AH', u'N', u'T']]]\n",
        "[[[u'S', u'T', u'EY', u'L']]]\n",
        "[[[u'UW'], [u'B', u'R', u'AH', u'S']]]\n",
        "[[[u'P', u'AE', u'N'], [u'D', u'ER'], [u'IH', u'NG']]]\n",
        "[[[u'OW'], [u'V', u'ER'], [u'K', u'AA', u'N'], [u'F', u'IH'], [u'D', u'AH', u'N', u'S']]]\n",
        "[[[u'K', u'W', u'EH', u'S'], [u'CH', u'AH', u'N']], [[u'K', u'W', u'EH'], [u'SH', u'AH', u'N']]]\n"
       ]
      }
     ],
     "prompt_number": 43
    },
    {
     "cell_type": "code",
     "collapsed": false,
     "input": [],
     "language": "python",
     "metadata": {},
     "outputs": []
    }
   ],
   "metadata": {}
  }
 ]
}